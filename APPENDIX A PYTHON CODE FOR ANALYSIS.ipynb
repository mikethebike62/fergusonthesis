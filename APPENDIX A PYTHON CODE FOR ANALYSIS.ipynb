{
 "cells": [
  {
   "cell_type": "markdown",
   "metadata": {
    "collapsed": true
   },
   "source": [
    "# Import modules"
   ]
  },
  {
   "cell_type": "code",
   "execution_count": 220,
   "metadata": {
    "collapsed": false,
    "scrolled": true
   },
   "outputs": [],
   "source": [
    "import sys, os\n",
    "import pandas as pd\n",
    "import numpy as np\n",
    "import matplotlib.pyplot as plt\n",
    "import pylab\n",
    "import statsmodels.api as sm\n",
    "import statsmodels.formula.api as smf\n",
    "from statsmodels.formula.api import ols\n",
    "from dateutil import parser"
   ]
  },
  {
   "cell_type": "markdown",
   "metadata": {},
   "source": [
    "# Set display options"
   ]
  },
  {
   "cell_type": "code",
   "execution_count": 221,
   "metadata": {
    "collapsed": true,
    "scrolled": true
   },
   "outputs": [],
   "source": [
    "pd.set_option('display.max_columns', 10)\n",
    "pd.set_option('display.max_rows', 10)\n",
    "desired_width = 320\n",
    "pd.set_option('display.width', desired_width)"
   ]
  },
  {
   "cell_type": "markdown",
   "metadata": {},
   "source": [
    "# Import Data"
   ]
  },
  {
   "cell_type": "code",
   "execution_count": 222,
   "metadata": {
    "collapsed": false,
    "scrolled": true
   },
   "outputs": [],
   "source": [
    "currPath = '/home/vmuser/Documents/analysis'\n",
    "\n",
    "dataManager = 'ManagerStats.csv'\n",
    "dataScores = 'MLBScores.csv'\n",
    "dataSalaries = 'Salaries.csv'\n",
    "dataTeamStats = 'TeamStats.csv'\n",
    "dataDates = 'DatesbyTeam.csv'"
   ]
  },
  {
   "cell_type": "markdown",
   "metadata": {},
   "source": [
    "# Descriptive Statistics of Game Outcomes"
   ]
  },
  {
   "cell_type": "code",
   "execution_count": 223,
   "metadata": {
    "collapsed": false,
    "scrolled": true
   },
   "outputs": [
    {
     "data": {
      "text/html": [
       "<div>\n",
       "<table border=\"1\" class=\"dataframe\">\n",
       "  <thead>\n",
       "    <tr style=\"text-align: right;\">\n",
       "      <th></th>\n",
       "      <th>Season</th>\n",
       "      <th>Rk</th>\n",
       "      <th>Gm</th>\n",
       "      <th>Date</th>\n",
       "      <th>Unnamed: 4</th>\n",
       "      <th>...</th>\n",
       "      <th>D/N</th>\n",
       "      <th>Attendance</th>\n",
       "      <th>Streak</th>\n",
       "      <th>Streak1</th>\n",
       "      <th>PriorStreak</th>\n",
       "    </tr>\n",
       "  </thead>\n",
       "  <tbody>\n",
       "    <tr>\n",
       "      <th>count</th>\n",
       "      <td>54803</td>\n",
       "      <td>54803</td>\n",
       "      <td>54803</td>\n",
       "      <td>54803</td>\n",
       "      <td>53454</td>\n",
       "      <td>...</td>\n",
       "      <td>54803</td>\n",
       "      <td>54803</td>\n",
       "      <td>54803</td>\n",
       "      <td>54803</td>\n",
       "      <td>54016</td>\n",
       "    </tr>\n",
       "    <tr>\n",
       "      <th>unique</th>\n",
       "      <td>13</td>\n",
       "      <td>164</td>\n",
       "      <td>164</td>\n",
       "      <td>1278</td>\n",
       "      <td>1</td>\n",
       "      <td>...</td>\n",
       "      <td>3</td>\n",
       "      <td>19044</td>\n",
       "      <td>34</td>\n",
       "      <td>34</td>\n",
       "      <td>35</td>\n",
       "    </tr>\n",
       "    <tr>\n",
       "      <th>top</th>\n",
       "      <td>2013</td>\n",
       "      <td>Rk</td>\n",
       "      <td>Gm#</td>\n",
       "      <td>Date</td>\n",
       "      <td>boxscore</td>\n",
       "      <td>...</td>\n",
       "      <td>N</td>\n",
       "      <td>Attendance</td>\n",
       "      <td>-</td>\n",
       "      <td>-1</td>\n",
       "      <td>1</td>\n",
       "    </tr>\n",
       "    <tr>\n",
       "      <th>freq</th>\n",
       "      <td>4982</td>\n",
       "      <td>1349</td>\n",
       "      <td>1349</td>\n",
       "      <td>1349</td>\n",
       "      <td>53454</td>\n",
       "      <td>...</td>\n",
       "      <td>36064</td>\n",
       "      <td>1349</td>\n",
       "      <td>13170</td>\n",
       "      <td>13170</td>\n",
       "      <td>13304</td>\n",
       "    </tr>\n",
       "  </tbody>\n",
       "</table>\n",
       "<p>4 rows × 26 columns</p>\n",
       "</div>"
      ],
      "text/plain": [
       "       Season     Rk     Gm   Date Unnamed: 4     ...        D/N  Attendance Streak Streak1 PriorStreak\n",
       "count   54803  54803  54803  54803      53454     ...      54803       54803  54803   54803       54016\n",
       "unique     13    164    164   1278          1     ...          3       19044     34      34          35\n",
       "top      2013     Rk    Gm#   Date   boxscore     ...          N  Attendance      -      -1           1\n",
       "freq     4982   1349   1349   1349      53454     ...      36064        1349  13170   13170       13304\n",
       "\n",
       "[4 rows x 26 columns]"
      ]
     },
     "execution_count": 223,
     "metadata": {},
     "output_type": "execute_result"
    }
   ],
   "source": [
    "dc = pd.read_csv(currPath + '/' + dataScores, low_memory=False)\n",
    "\n",
    "dc.describe().round(2)"
   ]
  },
  {
   "cell_type": "markdown",
   "metadata": {},
   "source": [
    "# Descriptive Statistics of Managerial Statistics"
   ]
  },
  {
   "cell_type": "code",
   "execution_count": 224,
   "metadata": {
    "collapsed": false,
    "scrolled": true
   },
   "outputs": [
    {
     "data": {
      "text/html": [
       "<div>\n",
       "<table border=\"1\" class=\"dataframe\">\n",
       "  <thead>\n",
       "    <tr style=\"text-align: right;\">\n",
       "      <th></th>\n",
       "      <th>Season</th>\n",
       "      <th>Yrs</th>\n",
       "      <th>Prior Seasons Managed</th>\n",
       "      <th>From</th>\n",
       "      <th>To</th>\n",
       "      <th>...</th>\n",
       "      <th>WSwon</th>\n",
       "      <th>PennWon</th>\n",
       "      <th>ASG</th>\n",
       "      <th>playoff per season</th>\n",
       "      <th>career playoffs per season</th>\n",
       "    </tr>\n",
       "  </thead>\n",
       "  <tbody>\n",
       "    <tr>\n",
       "      <th>count</th>\n",
       "      <td>330.00</td>\n",
       "      <td>330.00</td>\n",
       "      <td>330.00</td>\n",
       "      <td>330.00</td>\n",
       "      <td>330.00</td>\n",
       "      <td>...</td>\n",
       "      <td>330.00</td>\n",
       "      <td>330.00</td>\n",
       "      <td>330.00</td>\n",
       "      <td>330.00</td>\n",
       "      <td>330.00</td>\n",
       "    </tr>\n",
       "    <tr>\n",
       "      <th>mean</th>\n",
       "      <td>2009.00</td>\n",
       "      <td>11.46</td>\n",
       "      <td>7.52</td>\n",
       "      <td>1999.51</td>\n",
       "      <td>2012.27</td>\n",
       "      <td>...</td>\n",
       "      <td>0.54</td>\n",
       "      <td>1.03</td>\n",
       "      <td>0.98</td>\n",
       "      <td>0.21</td>\n",
       "      <td>0.25</td>\n",
       "    </tr>\n",
       "    <tr>\n",
       "      <th>std</th>\n",
       "      <td>3.17</td>\n",
       "      <td>7.48</td>\n",
       "      <td>7.23</td>\n",
       "      <td>9.67</td>\n",
       "      <td>2.41</td>\n",
       "      <td>...</td>\n",
       "      <td>0.96</td>\n",
       "      <td>1.58</td>\n",
       "      <td>1.53</td>\n",
       "      <td>0.24</td>\n",
       "      <td>0.20</td>\n",
       "    </tr>\n",
       "    <tr>\n",
       "      <th>min</th>\n",
       "      <td>2004.00</td>\n",
       "      <td>1.00</td>\n",
       "      <td>0.00</td>\n",
       "      <td>1973.00</td>\n",
       "      <td>2004.00</td>\n",
       "      <td>...</td>\n",
       "      <td>0.00</td>\n",
       "      <td>0.00</td>\n",
       "      <td>0.00</td>\n",
       "      <td>0.00</td>\n",
       "      <td>0.00</td>\n",
       "    </tr>\n",
       "    <tr>\n",
       "      <th>25%</th>\n",
       "      <td>2006.00</td>\n",
       "      <td>6.00</td>\n",
       "      <td>2.00</td>\n",
       "      <td>1995.00</td>\n",
       "      <td>2011.00</td>\n",
       "      <td>...</td>\n",
       "      <td>0.00</td>\n",
       "      <td>0.00</td>\n",
       "      <td>0.00</td>\n",
       "      <td>0.00</td>\n",
       "      <td>0.02</td>\n",
       "    </tr>\n",
       "    <tr>\n",
       "      <th>50%</th>\n",
       "      <td>2009.00</td>\n",
       "      <td>11.00</td>\n",
       "      <td>6.00</td>\n",
       "      <td>2002.00</td>\n",
       "      <td>2014.00</td>\n",
       "      <td>...</td>\n",
       "      <td>0.00</td>\n",
       "      <td>0.00</td>\n",
       "      <td>0.00</td>\n",
       "      <td>0.17</td>\n",
       "      <td>0.25</td>\n",
       "    </tr>\n",
       "    <tr>\n",
       "      <th>75%</th>\n",
       "      <td>2012.00</td>\n",
       "      <td>15.00</td>\n",
       "      <td>11.00</td>\n",
       "      <td>2007.00</td>\n",
       "      <td>2014.00</td>\n",
       "      <td>...</td>\n",
       "      <td>1.00</td>\n",
       "      <td>1.00</td>\n",
       "      <td>1.00</td>\n",
       "      <td>0.36</td>\n",
       "      <td>0.38</td>\n",
       "    </tr>\n",
       "    <tr>\n",
       "      <th>max</th>\n",
       "      <td>2014.00</td>\n",
       "      <td>33.00</td>\n",
       "      <td>32.00</td>\n",
       "      <td>2014.00</td>\n",
       "      <td>2014.00</td>\n",
       "      <td>...</td>\n",
       "      <td>4.00</td>\n",
       "      <td>6.00</td>\n",
       "      <td>6.00</td>\n",
       "      <td>1.00</td>\n",
       "      <td>1.00</td>\n",
       "    </tr>\n",
       "  </tbody>\n",
       "</table>\n",
       "<p>8 rows × 23 columns</p>\n",
       "</div>"
      ],
      "text/plain": [
       "        Season     Yrs  Prior Seasons Managed     From       To             ...               WSwon  PennWon     ASG  playoff per season  career playoffs per season\n",
       "count   330.00  330.00                 330.00   330.00   330.00             ...              330.00   330.00  330.00              330.00                      330.00\n",
       "mean   2009.00   11.46                   7.52  1999.51  2012.27             ...                0.54     1.03    0.98                0.21                        0.25\n",
       "std       3.17    7.48                   7.23     9.67     2.41             ...                0.96     1.58    1.53                0.24                        0.20\n",
       "min    2004.00    1.00                   0.00  1973.00  2004.00             ...                0.00     0.00    0.00                0.00                        0.00\n",
       "25%    2006.00    6.00                   2.00  1995.00  2011.00             ...                0.00     0.00    0.00                0.00                        0.02\n",
       "50%    2009.00   11.00                   6.00  2002.00  2014.00             ...                0.00     0.00    0.00                0.17                        0.25\n",
       "75%    2012.00   15.00                  11.00  2007.00  2014.00             ...                1.00     1.00    1.00                0.36                        0.38\n",
       "max    2014.00   33.00                  32.00  2014.00  2014.00             ...                4.00     6.00    6.00                1.00                        1.00\n",
       "\n",
       "[8 rows x 23 columns]"
      ]
     },
     "execution_count": 224,
     "metadata": {},
     "output_type": "execute_result"
    }
   ],
   "source": [
    "dmgr = pd.read_csv(currPath + '/' + dataManager, low_memory=False)\n",
    "\n",
    "dmgr.describe().round(2)"
   ]
  },
  {
   "cell_type": "markdown",
   "metadata": {},
   "source": [
    "# Descriptive Statistics of Team Payroll"
   ]
  },
  {
   "cell_type": "code",
   "execution_count": 225,
   "metadata": {
    "collapsed": false,
    "scrolled": true
   },
   "outputs": [
    {
     "data": {
      "text/html": [
       "<div>\n",
       "<table border=\"1\" class=\"dataframe\">\n",
       "  <thead>\n",
       "    <tr style=\"text-align: right;\">\n",
       "      <th></th>\n",
       "      <th>Year</th>\n",
       "      <th>Start Pay</th>\n",
       "      <th>End Pay</th>\n",
       "      <th>End Rank</th>\n",
       "      <th>OWAR</th>\n",
       "      <th>DWAR</th>\n",
       "      <th>PWAR</th>\n",
       "      <th>WAR</th>\n",
       "    </tr>\n",
       "  </thead>\n",
       "  <tbody>\n",
       "    <tr>\n",
       "      <th>count</th>\n",
       "      <td>330.00</td>\n",
       "      <td>3.300000e+02</td>\n",
       "      <td>3.300000e+02</td>\n",
       "      <td>330.00</td>\n",
       "      <td>330.00</td>\n",
       "      <td>330.00</td>\n",
       "      <td>330.00</td>\n",
       "      <td>330.00</td>\n",
       "    </tr>\n",
       "    <tr>\n",
       "      <th>mean</th>\n",
       "      <td>2009.00</td>\n",
       "      <td>9.009438e+07</td>\n",
       "      <td>9.511560e+07</td>\n",
       "      <td>15.48</td>\n",
       "      <td>19.68</td>\n",
       "      <td>-0.00</td>\n",
       "      <td>13.67</td>\n",
       "      <td>33.34</td>\n",
       "    </tr>\n",
       "    <tr>\n",
       "      <th>std</th>\n",
       "      <td>3.17</td>\n",
       "      <td>3.923318e+07</td>\n",
       "      <td>4.138032e+07</td>\n",
       "      <td>8.67</td>\n",
       "      <td>6.65</td>\n",
       "      <td>3.81</td>\n",
       "      <td>7.03</td>\n",
       "      <td>10.64</td>\n",
       "    </tr>\n",
       "    <tr>\n",
       "      <th>min</th>\n",
       "      <td>2004.00</td>\n",
       "      <td>1.499850e+07</td>\n",
       "      <td>2.112433e+07</td>\n",
       "      <td>1.00</td>\n",
       "      <td>0.50</td>\n",
       "      <td>-12.40</td>\n",
       "      <td>-5.80</td>\n",
       "      <td>3.80</td>\n",
       "    </tr>\n",
       "    <tr>\n",
       "      <th>25%</th>\n",
       "      <td>2006.00</td>\n",
       "      <td>6.329638e+07</td>\n",
       "      <td>6.920405e+07</td>\n",
       "      <td>8.00</td>\n",
       "      <td>14.82</td>\n",
       "      <td>-2.40</td>\n",
       "      <td>8.83</td>\n",
       "      <td>25.52</td>\n",
       "    </tr>\n",
       "    <tr>\n",
       "      <th>50%</th>\n",
       "      <td>2009.00</td>\n",
       "      <td>8.518380e+07</td>\n",
       "      <td>8.981920e+07</td>\n",
       "      <td>15.00</td>\n",
       "      <td>19.65</td>\n",
       "      <td>0.25</td>\n",
       "      <td>14.00</td>\n",
       "      <td>33.55</td>\n",
       "    </tr>\n",
       "    <tr>\n",
       "      <th>75%</th>\n",
       "      <td>2012.00</td>\n",
       "      <td>1.069286e+08</td>\n",
       "      <td>1.135385e+08</td>\n",
       "      <td>23.00</td>\n",
       "      <td>23.80</td>\n",
       "      <td>2.70</td>\n",
       "      <td>18.17</td>\n",
       "      <td>41.00</td>\n",
       "    </tr>\n",
       "    <tr>\n",
       "      <th>max</th>\n",
       "      <td>2014.00</td>\n",
       "      <td>2.293359e+08</td>\n",
       "      <td>2.572834e+08</td>\n",
       "      <td>30.00</td>\n",
       "      <td>40.00</td>\n",
       "      <td>11.10</td>\n",
       "      <td>37.20</td>\n",
       "      <td>59.90</td>\n",
       "    </tr>\n",
       "  </tbody>\n",
       "</table>\n",
       "</div>"
      ],
      "text/plain": [
       "          Year     Start Pay       End Pay  End Rank    OWAR    DWAR    PWAR     WAR\n",
       "count   330.00  3.300000e+02  3.300000e+02    330.00  330.00  330.00  330.00  330.00\n",
       "mean   2009.00  9.009438e+07  9.511560e+07     15.48   19.68   -0.00   13.67   33.34\n",
       "std       3.17  3.923318e+07  4.138032e+07      8.67    6.65    3.81    7.03   10.64\n",
       "min    2004.00  1.499850e+07  2.112433e+07      1.00    0.50  -12.40   -5.80    3.80\n",
       "25%    2006.00  6.329638e+07  6.920405e+07      8.00   14.82   -2.40    8.83   25.52\n",
       "50%    2009.00  8.518380e+07  8.981920e+07     15.00   19.65    0.25   14.00   33.55\n",
       "75%    2012.00  1.069286e+08  1.135385e+08     23.00   23.80    2.70   18.17   41.00\n",
       "max    2014.00  2.293359e+08  2.572834e+08     30.00   40.00   11.10   37.20   59.90"
      ]
     },
     "execution_count": 225,
     "metadata": {},
     "output_type": "execute_result"
    }
   ],
   "source": [
    "dpay = pd.read_csv(currPath + '/' + dataSalaries, low_memory=False)\n",
    "\n",
    "dpay.describe().round(2)"
   ]
  },
  {
   "cell_type": "markdown",
   "metadata": {},
   "source": [
    "# Descriptive Statistics of Average Age"
   ]
  },
  {
   "cell_type": "code",
   "execution_count": 226,
   "metadata": {
    "collapsed": false,
    "scrolled": true
   },
   "outputs": [
    {
     "data": {
      "text/html": [
       "<div>\n",
       "<table border=\"1\" class=\"dataframe\">\n",
       "  <thead>\n",
       "    <tr style=\"text-align: right;\">\n",
       "      <th></th>\n",
       "      <th>Season</th>\n",
       "      <th>NumBat</th>\n",
       "      <th>BatAge</th>\n",
       "      <th>PerBat</th>\n",
       "      <th>NumP</th>\n",
       "      <th>PAge</th>\n",
       "      <th>PerP</th>\n",
       "      <th>AvgAge</th>\n",
       "    </tr>\n",
       "  </thead>\n",
       "  <tbody>\n",
       "    <tr>\n",
       "      <th>count</th>\n",
       "      <td>330.00</td>\n",
       "      <td>330.00</td>\n",
       "      <td>330.00</td>\n",
       "      <td>330.00</td>\n",
       "      <td>330.00</td>\n",
       "      <td>330.00</td>\n",
       "      <td>330.00</td>\n",
       "      <td>330.00</td>\n",
       "    </tr>\n",
       "    <tr>\n",
       "      <th>mean</th>\n",
       "      <td>2009.00</td>\n",
       "      <td>46.07</td>\n",
       "      <td>28.87</td>\n",
       "      <td>0.66</td>\n",
       "      <td>23.52</td>\n",
       "      <td>28.61</td>\n",
       "      <td>0.34</td>\n",
       "      <td>28.79</td>\n",
       "    </tr>\n",
       "    <tr>\n",
       "      <th>std</th>\n",
       "      <td>3.17</td>\n",
       "      <td>4.65</td>\n",
       "      <td>1.33</td>\n",
       "      <td>0.02</td>\n",
       "      <td>3.49</td>\n",
       "      <td>1.38</td>\n",
       "      <td>0.02</td>\n",
       "      <td>1.20</td>\n",
       "    </tr>\n",
       "    <tr>\n",
       "      <th>min</th>\n",
       "      <td>2004.00</td>\n",
       "      <td>36.00</td>\n",
       "      <td>25.60</td>\n",
       "      <td>0.61</td>\n",
       "      <td>15.00</td>\n",
       "      <td>25.70</td>\n",
       "      <td>0.28</td>\n",
       "      <td>25.70</td>\n",
       "    </tr>\n",
       "    <tr>\n",
       "      <th>25%</th>\n",
       "      <td>2006.00</td>\n",
       "      <td>43.00</td>\n",
       "      <td>27.90</td>\n",
       "      <td>0.65</td>\n",
       "      <td>21.00</td>\n",
       "      <td>27.70</td>\n",
       "      <td>0.32</td>\n",
       "      <td>28.03</td>\n",
       "    </tr>\n",
       "    <tr>\n",
       "      <th>50%</th>\n",
       "      <td>2009.00</td>\n",
       "      <td>46.00</td>\n",
       "      <td>28.80</td>\n",
       "      <td>0.66</td>\n",
       "      <td>23.00</td>\n",
       "      <td>28.40</td>\n",
       "      <td>0.34</td>\n",
       "      <td>28.58</td>\n",
       "    </tr>\n",
       "    <tr>\n",
       "      <th>75%</th>\n",
       "      <td>2012.00</td>\n",
       "      <td>49.00</td>\n",
       "      <td>29.70</td>\n",
       "      <td>0.68</td>\n",
       "      <td>25.75</td>\n",
       "      <td>29.37</td>\n",
       "      <td>0.35</td>\n",
       "      <td>29.43</td>\n",
       "    </tr>\n",
       "    <tr>\n",
       "      <th>max</th>\n",
       "      <td>2014.00</td>\n",
       "      <td>64.00</td>\n",
       "      <td>33.50</td>\n",
       "      <td>0.72</td>\n",
       "      <td>40.00</td>\n",
       "      <td>34.20</td>\n",
       "      <td>0.39</td>\n",
       "      <td>33.04</td>\n",
       "    </tr>\n",
       "  </tbody>\n",
       "</table>\n",
       "</div>"
      ],
      "text/plain": [
       "        Season  NumBat  BatAge  PerBat    NumP    PAge    PerP  AvgAge\n",
       "count   330.00  330.00  330.00  330.00  330.00  330.00  330.00  330.00\n",
       "mean   2009.00   46.07   28.87    0.66   23.52   28.61    0.34   28.79\n",
       "std       3.17    4.65    1.33    0.02    3.49    1.38    0.02    1.20\n",
       "min    2004.00   36.00   25.60    0.61   15.00   25.70    0.28   25.70\n",
       "25%    2006.00   43.00   27.90    0.65   21.00   27.70    0.32   28.03\n",
       "50%    2009.00   46.00   28.80    0.66   23.00   28.40    0.34   28.58\n",
       "75%    2012.00   49.00   29.70    0.68   25.75   29.37    0.35   29.43\n",
       "max    2014.00   64.00   33.50    0.72   40.00   34.20    0.39   33.04"
      ]
     },
     "execution_count": 226,
     "metadata": {},
     "output_type": "execute_result"
    }
   ],
   "source": [
    "dage =  pd.read_csv(currPath + '/' + dataTeamStats, low_memory=False)\n",
    "\n",
    "dage.describe().round(2)"
   ]
  },
  {
   "cell_type": "markdown",
   "metadata": {},
   "source": [
    "# Team-game dates 2004-2014"
   ]
  },
  {
   "cell_type": "code",
   "execution_count": 227,
   "metadata": {
    "collapsed": false,
    "scrolled": true
   },
   "outputs": [
    {
     "name": "stdout",
     "output_type": "stream",
     "text": [
      "Descriptive statistics\n"
     ]
    },
    {
     "data": {
      "text/html": [
       "<div>\n",
       "<table border=\"1\" class=\"dataframe\">\n",
       "  <thead>\n",
       "    <tr style=\"text-align: right;\">\n",
       "      <th></th>\n",
       "      <th>Season</th>\n",
       "    </tr>\n",
       "  </thead>\n",
       "  <tbody>\n",
       "    <tr>\n",
       "      <th>count</th>\n",
       "      <td>67650.00</td>\n",
       "    </tr>\n",
       "    <tr>\n",
       "      <th>mean</th>\n",
       "      <td>2009.00</td>\n",
       "    </tr>\n",
       "    <tr>\n",
       "      <th>std</th>\n",
       "      <td>3.16</td>\n",
       "    </tr>\n",
       "    <tr>\n",
       "      <th>min</th>\n",
       "      <td>2004.00</td>\n",
       "    </tr>\n",
       "    <tr>\n",
       "      <th>25%</th>\n",
       "      <td>2006.00</td>\n",
       "    </tr>\n",
       "    <tr>\n",
       "      <th>50%</th>\n",
       "      <td>2009.00</td>\n",
       "    </tr>\n",
       "    <tr>\n",
       "      <th>75%</th>\n",
       "      <td>2012.00</td>\n",
       "    </tr>\n",
       "    <tr>\n",
       "      <th>max</th>\n",
       "      <td>2014.00</td>\n",
       "    </tr>\n",
       "  </tbody>\n",
       "</table>\n",
       "</div>"
      ],
      "text/plain": [
       "         Season\n",
       "count  67650.00\n",
       "mean    2009.00\n",
       "std        3.16\n",
       "min     2004.00\n",
       "25%     2006.00\n",
       "50%     2009.00\n",
       "75%     2012.00\n",
       "max     2014.00"
      ]
     },
     "execution_count": 227,
     "metadata": {},
     "output_type": "execute_result"
    }
   ],
   "source": [
    "dd = pd.read_csv(currPath + '/' + dataDates, low_memory=False)\n",
    "dd['fullDate'] = dd.apply(lambda x: parser.parse(x['Date']),axis=1)\n",
    "dd = dd.sort_values(by=['Season'], ascending=[1])\n",
    "\n",
    "print(\"Descriptive statistics\")\n",
    "dd.describe().round(2)"
   ]
  },
  {
   "cell_type": "markdown",
   "metadata": {},
   "source": [
    "# Create scores data set and import dates"
   ]
  },
  {
   "cell_type": "code",
   "execution_count": 228,
   "metadata": {
    "collapsed": false,
    "scrolled": true
   },
   "outputs": [],
   "source": [
    "dc = pd.read_csv(currPath + '/' + dataScores, low_memory=False)\n",
    "dc = dc[dc['Date'] != 'Date'] #Remove extra heading rows\n",
    "dc['Date'] = dc['Date'] + ', ' + dc['Season']\n",
    "dc['Date'] = dc.apply(lambda x: parser.parse(x['Date']), axis=1)\n",
    "dc['isthome'] = dc.apply(lambda x: 1 if x['Symbol']!=\"@\" else 0, axis=1)"
   ]
  },
  {
   "cell_type": "markdown",
   "metadata": {},
   "source": [
    "# Rename headers and convert to values to floats"
   ]
  },
  {
   "cell_type": "code",
   "execution_count": 229,
   "metadata": {
    "collapsed": true,
    "scrolled": true
   },
   "outputs": [],
   "source": [
    "dc = dc.rename(columns={'Visitor': 'team', 'Home': 'opp', 'Visitor W/L': 'gameWL', 'Runs Visitor': 'teamRuns', 'Runs Home': 'oppRuns', 'D/N': 'DN', 'Gm': 'gn'})\n",
    "dc = dc.drop(['Unnamed: 4', 'W-L', 'Win', 'Loss', 'Save', 'Rk', 'gameWL', 'Inn', 'GB', 'Rank', 'Streak', 'Time', 'Symbol'], axis=1)\n",
    "dc[['Season', 'teamRuns', 'oppRuns', 'gn']] = dc[['Season', 'teamRuns', 'oppRuns', 'gn']].astype(float) "
   ]
  },
  {
   "cell_type": "markdown",
   "metadata": {},
   "source": [
    "# Determine winners and losers by run differential"
   ]
  },
  {
   "cell_type": "code",
   "execution_count": 264,
   "metadata": {
    "collapsed": false,
    "scrolled": true
   },
   "outputs": [],
   "source": [
    "dc['druns'] = dc['teamRuns'] - dc['oppRuns'] #difference in runs\n",
    "dc['twin'] = dc.apply(lambda x: 1 if x['druns'] > 0 else 0, axis=1) #winner indicator variable\n",
    "dc['tlos'] = dc.apply(lambda x: 1 if x['druns'] < 0 else 0, axis=1) #loser indicator variable\n",
    "\n",
    "dc = dc.sort_values(by=['Season', 'team', 'gn'], ascending=[1, 1, 1])\n",
    "dc = dc.set_index(['Season', 'team'])"
   ]
  },
  {
   "cell_type": "markdown",
   "metadata": {},
   "source": [
    "# Attain pre-game records"
   ]
  },
  {
   "cell_type": "code",
   "execution_count": 231,
   "metadata": {
    "collapsed": true,
    "scrolled": true
   },
   "outputs": [],
   "source": [
    "dc['tws'] = dc.groupby(level=['Season', 'team'])['twin'].cumsum() - dc['twin']\n",
    "dc['tls'] = dc.groupby(level=['Season', 'team'])['tlos'].cumsum() - dc['tlos']\n",
    "dc['twper'] = dc['tws'] / (dc['tws'] + dc['tls'])\n",
    "dc['tgameday'] = 1\n",
    "dc = dc.reset_index()"
   ]
  },
  {
   "cell_type": "markdown",
   "metadata": {},
   "source": [
    "# Loop to create individual data by season/team"
   ]
  },
  {
   "cell_type": "code",
   "execution_count": 232,
   "metadata": {
    "collapsed": false,
    "scrolled": true
   },
   "outputs": [
    {
     "name": "stdout",
     "output_type": "stream",
     "text": [
      "loop complete\n"
     ]
    }
   ],
   "source": [
    "season_list = dc['Season'].unique()  ###Create list of seasons\n",
    "team_list   = dc['team'].unique()    ###Create list of teams\n",
    "dm = pd.DataFrame()             ####Create blank data frame\n",
    "\n",
    "for season in season_list:\n",
    "    dt = dc[dc['Season'] == season]    ####Create data for one season\n",
    "    sta_date = dt['Date'].min()\n",
    "    end_date = dt['Date'].max()\n",
    "    for team in team_list:\n",
    "        du = pd.DataFrame(data=None, columns=['team'], index=pd.date_range(sta_date, end_date)).reset_index()\n",
    "        du = du.rename(columns={'index': 'Date'})\n",
    "        du['team'] = team\n",
    "        dv = pd.DataFrame()\n",
    "        dv = pd.merge(du, dt, left_on=['Date', 'team'], right_on=['Date', 'team'], how='left').set_index(['Season', 'team']) ###Data for one team for one season\n",
    "        dm = pd.concat([dm, dv], axis=0)\n",
    "print 'loop complete'"
   ]
  },
  {
   "cell_type": "markdown",
   "metadata": {},
   "source": [
    "# Insert team record for days with no games"
   ]
  },
  {
   "cell_type": "code",
   "execution_count": 233,
   "metadata": {
    "collapsed": true,
    "scrolled": true
   },
   "outputs": [],
   "source": [
    "dm = dm.reset_index(level=0)\n",
    "dm['toffday'] = dm['tgameday'].apply(lambda x: 1 if x != 1 else 0)\n",
    "dm = dm.fillna(method='bfill')"
   ]
  },
  {
   "cell_type": "markdown",
   "metadata": {},
   "source": [
    "# Include game outcomes only from May 1 to the end of the season"
   ]
  },
  {
   "cell_type": "code",
   "execution_count": 234,
   "metadata": {
    "collapsed": true,
    "scrolled": true
   },
   "outputs": [],
   "source": [
    "dm['month'] = dm['Date'].apply(lambda x: x.month)\n",
    "dm = dm[dm['month'] > 4]   ####Only leave May results to the end of the season results\n",
    "dm = dm.reset_index()"
   ]
  },
  {
   "cell_type": "markdown",
   "metadata": {},
   "source": [
    "# Create League Standings"
   ]
  },
  {
   "cell_type": "code",
   "execution_count": 263,
   "metadata": {
    "collapsed": false,
    "scrolled": true
   },
   "outputs": [],
   "source": [
    "dr = pd.DataFrame()\n",
    "dr = dm[['Season', 'Date', 'League', 'Division', 'team', 'twin', 'tlos', 'gn', 'tws', 'tls', 'twper','Attendance','Streak1','PriorStreak']]\n",
    "#dr = dr[dr['Season']==2014]\n",
    "#dr = dr[(dr['League']=='AL') & (dr['Division']=='East')]\n",
    "dr = dr.sort_values(by=['League', 'Division', 'Date', 'team', 'gn'], ascending=[1, 1, 1, 0, 1])\n",
    "dr = dr.groupby(['League', 'Division', 'Date', 'team']).first().reset_index()"
   ]
  },
  {
   "cell_type": "markdown",
   "metadata": {},
   "source": [
    "# Create League and Division Rank Variables"
   ]
  },
  {
   "cell_type": "code",
   "execution_count": 262,
   "metadata": {
    "collapsed": false,
    "scrolled": true
   },
   "outputs": [],
   "source": [
    "dr = dr.sort_values(by=['League', 'Division', 'Date', 'twper'], ascending=[1, 1, 1, 0])\n",
    "dr['drank'] = dr.groupby(['League', 'Division', 'Date'])['twper'].rank(ascending = False)\n",
    "dr = dr.sort_values(by=['League', 'Date', 'twper'], ascending=[1, 1, 0])\n",
    "dr['lrank'] = dr.groupby(['League', 'Date'])['twper'].rank(ascending = False)"
   ]
  },
  {
   "cell_type": "markdown",
   "metadata": {},
   "source": [
    "# Create data frame for Team and Opponent"
   ]
  },
  {
   "cell_type": "code",
   "execution_count": 237,
   "metadata": {
    "collapsed": true,
    "scrolled": true
   },
   "outputs": [],
   "source": [
    "dt = dr[['Season', 'Date', 'League', 'Division', 'team', 'drank', 'lrank']]\n",
    "dt = dt.rename(columns={'drank': 'tdrank', 'lrank': 'tlrank'})\n",
    "do = dr\n",
    "do = do.rename(columns={'team': 'opp', 'tws': 'ows', 'tls': 'ols', 'twper': 'owper', 'drank': 'odrank', 'lrank': 'olrank', 'gn': 'ogn', 'Streak1': 'ostreak','PriorStreak':'opriorstreak'})\n"
   ]
  },
  {
   "cell_type": "markdown",
   "metadata": {},
   "source": [
    "# Create data frame for Division and League Leader"
   ]
  },
  {
   "cell_type": "code",
   "execution_count": 238,
   "metadata": {
    "collapsed": true,
    "scrolled": true
   },
   "outputs": [],
   "source": [
    "dw = dr[dr['drank']==1][['Season', 'Date', 'League', 'Division', 'team', 'tws', 'tls', 'twper', 'twin', 'tlos']] ###division leader data\n",
    "dw = dw.rename(columns={'team': 'dleader', 'tws': 'dlws', 'tls': 'dlls', 'twper': 'dlwper', 'twin': 'dltwin', 'tlos': 'dllos'})\n",
    "dx = dr[dr['lrank']==1][['Season', 'Date', 'League', 'Division', 'team', 'tws', 'tls', 'twper', 'twin', 'tlos']] ####league leader data\n",
    "dx = dx.rename(columns={'team': 'lleader', 'tws': 'llws', 'tls': 'llls', 'twper': 'llwper', 'twin': 'lltwin', 'tlos': 'lllos'})"
   ]
  },
  {
   "cell_type": "markdown",
   "metadata": {},
   "source": [
    "# Create data set for analysis"
   ]
  },
  {
   "cell_type": "code",
   "execution_count": 239,
   "metadata": {
    "collapsed": true,
    "scrolled": true
   },
   "outputs": [],
   "source": [
    "da = pd.DataFrame()\n",
    "da = dm[dm['tgameday']==1][['Season', 'Date', 'League', 'Division', 'team', 'opp', 'teamRuns', 'oppRuns', 'isthome', 'druns', 'twin', 'tws', 'tls', 'twper','DN','PriorStreak']]"
   ]
  },
  {
   "cell_type": "markdown",
   "metadata": {},
   "source": [
    "# Merge Team, Opponent, Division leader, and League Leader data sets"
   ]
  },
  {
   "cell_type": "code",
   "execution_count": 240,
   "metadata": {
    "collapsed": true,
    "scrolled": true
   },
   "outputs": [],
   "source": [
    "da = pd.merge(da, dt, left_on=['Season', 'League', 'Division', 'Date', 'team'], right_on=['Season', 'League', 'Division', 'Date', 'team'])\n",
    "da = pd.merge(da, do, left_on=['Season', 'Date', 'opp'] , right_on=['Season', 'Date', 'opp'])\n",
    "da = pd.merge(da, dw, left_on=['Season', 'League_x', 'Division_x', 'Date'], right_on=['Season', 'League', 'Division', 'Date'])\n",
    "da = pd.merge(da, dx, left_on=['Season', 'League_x', 'Date'], right_on=['Season', 'League', 'Date'])"
   ]
  },
  {
   "cell_type": "markdown",
   "metadata": {},
   "source": [
    "# Create games back variables"
   ]
  },
  {
   "cell_type": "code",
   "execution_count": 241,
   "metadata": {
    "collapsed": true,
    "scrolled": true
   },
   "outputs": [],
   "source": [
    "'''playoff race indicative variables'''\n",
    "da['gbll'] = (da['llws']-da['tws'] + da['tls']-da['llls'])/2\n",
    "da['gbdl'] = (da['dlws']-da['tws'] + da['tls']-da['dlls'])/2\n",
    "\n",
    "da = da.rename(columns={'League_x': 'tLeague', 'Division_x': 'tDivision', 'League_y': 'oLeague', 'Division_y': 'oDivision'})"
   ]
  },
  {
   "cell_type": "markdown",
   "metadata": {},
   "source": [
    "# Attain previous day's game outcome for division leader"
   ]
  },
  {
   "cell_type": "code",
   "execution_count": 242,
   "metadata": {
    "collapsed": false,
    "scrolled": true
   },
   "outputs": [
    {
     "data": {
      "text/plain": [
       "dtype('<M8[ns]')"
      ]
     },
     "execution_count": 242,
     "metadata": {},
     "output_type": "execute_result"
    }
   ],
   "source": [
    "import datetime\n",
    "from datetime import timedelta\n",
    "dw['one_day'] = datetime.timedelta(days=1)\n",
    "dw['nextday'] = dw['Date']+dw['one_day']\n",
    "dw['Date'].dtypes"
   ]
  },
  {
   "cell_type": "markdown",
   "metadata": {},
   "source": [
    "# Merge previous division leader game outcome with team result"
   ]
  },
  {
   "cell_type": "code",
   "execution_count": 243,
   "metadata": {
    "collapsed": false,
    "scrolled": true
   },
   "outputs": [
    {
     "name": "stdout",
     "output_type": "stream",
     "text": [
      "merge complete\n"
     ]
    }
   ],
   "source": [
    "d1 = pd.merge(da, dw, left_on=['Season', 'Date', 'dleader'],right_on=['Season', 'nextday', 'dleader'])\n",
    "d1.dtypes\n",
    "d1.describe()\n",
    "d1.groupby(level=0).first()\n",
    "print 'merge complete'"
   ]
  },
  {
   "cell_type": "markdown",
   "metadata": {},
   "source": [
    "# Merge October results with September"
   ]
  },
  {
   "cell_type": "code",
   "execution_count": 244,
   "metadata": {
    "collapsed": true,
    "scrolled": true
   },
   "outputs": [],
   "source": [
    "d1['month'] = d1['Date_x'].apply(lambda x: x.month)\n",
    "d1['month2'] = d1['month']\n",
    "d1['month2'] = d1.apply(lambda x: 9 if (x['month2'] > 9) else x['month2'] , axis=1)"
   ]
  },
  {
   "cell_type": "markdown",
   "metadata": {},
   "source": [
    "# Create variables representing games back by category"
   ]
  },
  {
   "cell_type": "code",
   "execution_count": 245,
   "metadata": {
    "collapsed": true,
    "scrolled": true
   },
   "outputs": [],
   "source": [
    "d1['gb'] = d1.apply(lambda x: 2 if (x['gbdl'] > 10) else x['gbdl'] , axis=1) #more than 10 games back\n",
    "d1['gb'] = d1.apply(lambda x: 0 if (x['gbdl'] <= 5) else x['gb'] , axis=1) #5 to 10 games back\n",
    "d1['gb'] = d1.apply(lambda x: 1 if (x['gbdl'] > 5) & (x['gbdl']<= 10) else x['gb'] , axis=1) #less than 5 games back"
   ]
  },
  {
   "cell_type": "markdown",
   "metadata": {},
   "source": [
    "# Create data set that excludes division leader game outcomes"
   ]
  },
  {
   "cell_type": "code",
   "execution_count": 246,
   "metadata": {
    "collapsed": true,
    "scrolled": true
   },
   "outputs": [],
   "source": [
    "d1 = d1[d1['gbdl'] > 0]"
   ]
  },
  {
   "cell_type": "markdown",
   "metadata": {},
   "source": [
    "# Convert variable types to floats"
   ]
  },
  {
   "cell_type": "code",
   "execution_count": 247,
   "metadata": {
    "collapsed": true,
    "scrolled": true
   },
   "outputs": [],
   "source": [
    "d1['Season']    = d1['Season'].astype(float)\n",
    "d1['month']     = d1['month'].astype(float)\n",
    "d1['gb']        = d1['gb'].astype(float)\n",
    "d1['dltwin_x']  = d1['dltwin_x'].astype(float)\n",
    "d1['twin_x']    = d1['twin_x'].astype(float)\n",
    "d1['month2']    = d1['month2'].astype(float)\n",
    "d1['PriorStreak']    = d1['PriorStreak'].astype(float)\n",
    "d1['opriorstreak']    = d1['opriorstreak'].astype(float)"
   ]
  },
  {
   "cell_type": "markdown",
   "metadata": {},
   "source": [
    "# Table 1: Summary Statistics of Scoreboard Watching"
   ]
  },
  {
   "cell_type": "code",
   "execution_count": 248,
   "metadata": {
    "collapsed": false,
    "scrolled": true
   },
   "outputs": [
    {
     "name": "stdout",
     "output_type": "stream",
     "text": [
      "month2  gb   dltwin_x\n",
      "5.0     0.0  0.0         0.566518\n",
      "             1.0         0.473811\n",
      "        1.0  0.0         0.494764\n",
      "             1.0         0.451777\n",
      "        2.0  0.0         0.533724\n",
      "                           ...   \n",
      "9.0     0.0  1.0         0.506045\n",
      "        1.0  0.0         0.625187\n",
      "             1.0         0.454128\n",
      "        2.0  0.0         0.542974\n",
      "             1.0         0.380597\n",
      "Name: twin_x, dtype: float64\n",
      "month2  gb   dltwin_x\n",
      "5.0     0.0  0.0         0.495713\n",
      "             1.0         0.499464\n",
      "        1.0  0.0         0.500191\n",
      "             1.0         0.497880\n",
      "        2.0  0.0         0.499594\n",
      "                           ...   \n",
      "9.0     0.0  1.0         0.500396\n",
      "        1.0  0.0         0.484438\n",
      "             1.0         0.498177\n",
      "        2.0  0.0         0.498263\n",
      "             1.0         0.485624\n",
      "Name: twin_x, dtype: float64\n",
      "gb = 0: less than 5 games back\n",
      "gb = 1: 5 to 10 games back\n",
      "gb = 2: greater than 10 games back\n"
     ]
    }
   ],
   "source": [
    "d3 = d1.groupby(['month2', 'gb', 'dltwin_x'])['twin_x'].mean()\n",
    "print d3\n",
    "d4 = d1.groupby(['month2', 'gb', 'dltwin_x'])['twin_x'].std()\n",
    "print d4\n",
    "print 'gb = 0: less than 5 games back'\n",
    "print 'gb = 1: 5 to 10 games back'\n",
    "print 'gb = 2: greater than 10 games back'"
   ]
  },
  {
   "cell_type": "markdown",
   "metadata": {},
   "source": [
    "# Create additional variables for analysis"
   ]
  },
  {
   "cell_type": "code",
   "execution_count": 249,
   "metadata": {
    "collapsed": true,
    "scrolled": true
   },
   "outputs": [],
   "source": [
    "d1['lngbdl']    = np.log(d1['gbdl']) #log of games back\n",
    "d1['dwper']     = d1['twper'] - d1['owper'] #difference in winning percentage with opponent\n",
    "d1['dlw_gbdl']  = d1['dltwin_x'] * d1['gbdl'] #games back of division leader if division leader won\n",
    "d1['dll_gbdl']  = (1 - d1['dltwin_x']) * d1['gbdl'] #games back of division leader if division leader lost\n",
    "\n",
    "d1['twperhalf'] = d1['twper']-0.5 #team winning percentage minus 50%\n",
    "\n",
    "Y = d1['twin_x'] #Create dependent variable"
   ]
  },
  {
   "cell_type": "markdown",
   "metadata": {},
   "source": [
    "# Table 2: Ordinary Least Squares in relation to Scoreboard Watching and Win Probability"
   ]
  },
  {
   "cell_type": "code",
   "execution_count": 250,
   "metadata": {
    "collapsed": false,
    "scrolled": true
   },
   "outputs": [
    {
     "name": "stdout",
     "output_type": "stream",
     "text": [
      "all seasons\n",
      "all months\n",
      "                            OLS Regression Results                            \n",
      "==============================================================================\n",
      "Dep. Variable:                 twin_x   R-squared:                       0.020\n",
      "Model:                            OLS   Adj. R-squared:                  0.020\n",
      "Method:                 Least Squares   F-statistic:                     368.8\n",
      "Date:                Thu, 08 Dec 2016   Prob (F-statistic):          3.07e-159\n",
      "Time:                        18:21:19   Log-Likelihood:                -25309.\n",
      "No. Observations:               35386   AIC:                         5.062e+04\n",
      "Df Residuals:                   35383   BIC:                         5.065e+04\n",
      "Df Model:                           2                                         \n",
      "Covariance Type:            nonrobust                                         \n",
      "==============================================================================\n",
      "                 coef    std err          t      P>|t|      [95.0% Conf. Int.]\n",
      "------------------------------------------------------------------------------\n",
      "const          0.5547      0.004    140.690      0.000         0.547     0.562\n",
      "dltwin_x      -0.0972      0.005    -18.413      0.000        -0.108    -0.087\n",
      "dwper          0.5169      0.026     19.910      0.000         0.466     0.568\n",
      "==============================================================================\n",
      "Omnibus:                        8.276   Durbin-Watson:                   2.174\n",
      "Prob(Omnibus):                  0.016   Jarque-Bera (JB):             5427.486\n",
      "Skew:                           0.037   Prob(JB):                         0.00\n",
      "Kurtosis:                       1.083   Cond. No.                         11.5\n",
      "==============================================================================\n",
      "\n",
      "Warnings:\n",
      "[1] Standard Errors assume that the covariance matrix of the errors is correctly specified.\n",
      "May to August\n",
      "                            OLS Regression Results                            \n",
      "==============================================================================\n",
      "Dep. Variable:                 twin_x   R-squared:                       0.016\n",
      "Model:                            OLS   Adj. R-squared:                  0.016\n",
      "Method:                 Least Squares   F-statistic:                     224.9\n",
      "Date:                Thu, 08 Dec 2016   Prob (F-statistic):           1.30e-97\n",
      "Time:                        18:21:19   Log-Likelihood:                -20032.\n",
      "No. Observations:               27915   AIC:                         4.007e+04\n",
      "Df Residuals:                   27912   BIC:                         4.009e+04\n",
      "Df Model:                           2                                         \n",
      "Covariance Type:            nonrobust                                         \n",
      "==============================================================================\n",
      "                 coef    std err          t      P>|t|      [95.0% Conf. Int.]\n",
      "------------------------------------------------------------------------------\n",
      "const          0.5453      0.004    122.964      0.000         0.537     0.554\n",
      "dltwin_x      -0.0809      0.006    -13.576      0.000        -0.093    -0.069\n",
      "dwper          0.4680      0.029     16.283      0.000         0.412     0.524\n",
      "==============================================================================\n",
      "Omnibus:                        5.805   Durbin-Watson:                   2.146\n",
      "Prob(Omnibus):                  0.055   Jarque-Bera (JB):             4363.600\n",
      "Skew:                           0.035   Prob(JB):                         0.00\n",
      "Kurtosis:                       1.064   Cond. No.                         11.3\n",
      "==============================================================================\n",
      "\n",
      "Warnings:\n",
      "[1] Standard Errors assume that the covariance matrix of the errors is correctly specified.\n",
      "September to October\n",
      "                            OLS Regression Results                            \n",
      "==============================================================================\n",
      "Dep. Variable:                 twin_x   R-squared:                       0.044\n",
      "Model:                            OLS   Adj. R-squared:                  0.044\n",
      "Method:                 Least Squares   F-statistic:                     172.7\n",
      "Date:                Thu, 08 Dec 2016   Prob (F-statistic):           4.79e-74\n",
      "Time:                        18:21:19   Log-Likelihood:                -5250.2\n",
      "No. Observations:                7471   AIC:                         1.051e+04\n",
      "Df Residuals:                    7468   BIC:                         1.053e+04\n",
      "Df Model:                           2                                         \n",
      "Covariance Type:            nonrobust                                         \n",
      "==============================================================================\n",
      "                 coef    std err          t      P>|t|      [95.0% Conf. Int.]\n",
      "------------------------------------------------------------------------------\n",
      "const          0.5912      0.009     68.887      0.000         0.574     0.608\n",
      "dltwin_x      -0.1581      0.011    -13.898      0.000        -0.180    -0.136\n",
      "dwper          0.7358      0.060     12.178      0.000         0.617     0.854\n",
      "==============================================================================\n",
      "Omnibus:                        1.814   Durbin-Watson:                   2.293\n",
      "Prob(Omnibus):                  0.404   Jarque-Bera (JB):             1033.957\n",
      "Skew:                           0.038   Prob(JB):                    3.01e-225\n",
      "Kurtosis:                       1.179   Cond. No.                         12.5\n",
      "==============================================================================\n",
      "\n",
      "Warnings:\n",
      "[1] Standard Errors assume that the covariance matrix of the errors is correctly specified.\n",
      "Teams still in race during September/October\n",
      "                            OLS Regression Results                            \n",
      "==============================================================================\n",
      "Dep. Variable:                 twin_x   R-squared:                       0.042\n",
      "Model:                            OLS   Adj. R-squared:                  0.042\n",
      "Method:                 Least Squares   F-statistic:                     84.38\n",
      "Date:                Thu, 08 Dec 2016   Prob (F-statistic):           1.37e-36\n",
      "Time:                        18:21:19   Log-Likelihood:                -2703.2\n",
      "No. Observations:                3839   AIC:                             5412.\n",
      "Df Residuals:                    3836   BIC:                             5431.\n",
      "Df Model:                           2                                         \n",
      "Covariance Type:            nonrobust                                         \n",
      "==============================================================================\n",
      "                 coef    std err          t      P>|t|      [95.0% Conf. Int.]\n",
      "------------------------------------------------------------------------------\n",
      "const          0.5836      0.012     48.675      0.000         0.560     0.607\n",
      "dltwin_x      -0.1470      0.016     -9.228      0.000        -0.178    -0.116\n",
      "dwper          0.8741      0.097      8.982      0.000         0.683     1.065\n",
      "==============================================================================\n",
      "Omnibus:                        1.642   Durbin-Watson:                   2.258\n",
      "Prob(Omnibus):                  0.440   Jarque-Bera (JB):              536.748\n",
      "Skew:                          -0.051   Prob(JB):                    2.80e-117\n",
      "Kurtosis:                       1.171   Cond. No.                         14.5\n",
      "==============================================================================\n",
      "\n",
      "Warnings:\n",
      "[1] Standard Errors assume that the covariance matrix of the errors is correctly specified.\n",
      "Teams still in race during September/October based on games back\n",
      "                            OLS Regression Results                            \n",
      "==============================================================================\n",
      "Dep. Variable:                 twin_x   R-squared:                       0.043\n",
      "Model:                            OLS   Adj. R-squared:                  0.042\n",
      "Method:                 Least Squares   F-statistic:                     43.25\n",
      "Date:                Thu, 08 Dec 2016   Prob (F-statistic):           1.53e-35\n",
      "Time:                        18:21:19   Log-Likelihood:                -2701.1\n",
      "No. Observations:                3839   AIC:                             5412.\n",
      "Df Residuals:                    3834   BIC:                             5444.\n",
      "Df Model:                           4                                         \n",
      "Covariance Type:            nonrobust                                         \n",
      "==============================================================================\n",
      "                 coef    std err          t      P>|t|      [95.0% Conf. Int.]\n",
      "------------------------------------------------------------------------------\n",
      "const          0.6178      0.024     26.115      0.000         0.571     0.664\n",
      "dltwin_x      -0.1548      0.030     -5.153      0.000        -0.214    -0.096\n",
      "dwper          0.7674      0.111      6.896      0.000         0.549     0.986\n",
      "dlw_gbdl      -0.0026      0.002     -1.384      0.166        -0.006     0.001\n",
      "dll_gbdl      -0.0033      0.002     -1.653      0.098        -0.007     0.001\n",
      "==============================================================================\n",
      "Omnibus:                        1.486   Durbin-Watson:                   2.257\n",
      "Prob(Omnibus):                  0.476   Jarque-Bera (JB):              534.399\n",
      "Skew:                          -0.048   Prob(JB):                    9.05e-117\n",
      "Kurtosis:                       1.175   Cond. No.                         125.\n",
      "==============================================================================\n",
      "\n",
      "Warnings:\n",
      "[1] Standard Errors assume that the covariance matrix of the errors is correctly specified.\n"
     ]
    },
    {
     "name": "stderr",
     "output_type": "stream",
     "text": [
      "/home/vmuser/local/anaconda2/lib/python2.7/site-packages/ipykernel/__main__.py:22: SettingWithCopyWarning: \n",
      "A value is trying to be set on a copy of a slice from a DataFrame.\n",
      "Try using .loc[row_indexer,col_indexer] = value instead\n",
      "\n",
      "See the caveats in the documentation: http://pandas.pydata.org/pandas-docs/stable/indexing.html#indexing-view-versus-copy\n"
     ]
    }
   ],
   "source": [
    "print \"all seasons\"\n",
    "print 'all months'\n",
    "X = sm.add_constant(d1[['dltwin_x', 'dwper']])\n",
    "tempOut = sm.OLS(Y, X).fit()\n",
    "print tempOut.summary()\n",
    "\n",
    "print 'May to August'\n",
    "dt = d1[d1['month2']<9]\n",
    "Y = dt['twin_x']\n",
    "X = sm.add_constant(dt[['dltwin_x', 'dwper']])\n",
    "tempOut = sm.OLS(Y, X).fit()\n",
    "print tempOut.summary()\n",
    "\n",
    "print 'September to October'\n",
    "ds = d1[d1['month2']>=9]\n",
    "Y = ds['twin_x']\n",
    "X = sm.add_constant(ds[['dltwin_x', 'dwper']])\n",
    "tempOut = sm.OLS(Y, X).fit()\n",
    "print tempOut.summary()\n",
    "\n",
    "print 'Teams still in race during September/October'\n",
    "ds['gr'] = 162-ds['tws']-ds['tls']\n",
    "dsi = ds[ds['gr']>=ds['gbdl']]\n",
    "\n",
    "Y = dsi['twin_x']\n",
    "X = sm.add_constant(dsi[['dltwin_x', 'dwper']])\n",
    "tempOut = sm.OLS(Y, X).fit()\n",
    "print tempOut.summary()\n",
    "\n",
    "print 'Teams still in race during September/October based on games back'\n",
    "Y = dsi['twin_x']\n",
    "X = sm.add_constant(dsi[['dltwin_x', 'dwper', 'dlw_gbdl', 'dll_gbdl']])\n",
    "tempOut = sm.OLS(Y, X).fit()\n",
    "print tempOut.summary()\n",
    "\n"
   ]
  },
  {
   "cell_type": "markdown",
   "metadata": {},
   "source": [
    "# Table 3: Scoreboard Watching Regression Based on Playoff Races"
   ]
  },
  {
   "cell_type": "code",
   "execution_count": 251,
   "metadata": {
    "collapsed": false,
    "scrolled": false
   },
   "outputs": [
    {
     "name": "stdout",
     "output_type": "stream",
     "text": [
      "August in race\n",
      "                            OLS Regression Results                            \n",
      "==============================================================================\n",
      "Dep. Variable:                 twin_x   R-squared:                       0.015\n",
      "Model:                            OLS   Adj. R-squared:                  0.014\n",
      "Method:                 Least Squares   F-statistic:                     12.18\n",
      "Date:                Thu, 08 Dec 2016   Prob (F-statistic):           5.65e-06\n",
      "Time:                        18:21:20   Log-Likelihood:                -1141.5\n",
      "No. Observations:                1590   AIC:                             2289.\n",
      "Df Residuals:                    1587   BIC:                             2305.\n",
      "Df Model:                           2                                         \n",
      "Covariance Type:            nonrobust                                         \n",
      "==============================================================================\n",
      "                 coef    std err          t      P>|t|      [95.0% Conf. Int.]\n",
      "------------------------------------------------------------------------------\n",
      "const          0.5473      0.021     26.095      0.000         0.506     0.588\n",
      "dltwin_x      -0.0962      0.025     -3.789      0.000        -0.146    -0.046\n",
      "dwper          0.4991      0.164      3.044      0.002         0.178     0.821\n",
      "==============================================================================\n",
      "Omnibus:                        0.658   Durbin-Watson:                   2.108\n",
      "Prob(Omnibus):                  0.720   Jarque-Bera (JB):              248.989\n",
      "Skew:                          -0.050   Prob(JB):                     8.57e-55\n",
      "Kurtosis:                       1.064   Cond. No.                         15.8\n",
      "==============================================================================\n",
      "\n",
      "Warnings:\n",
      "[1] Standard Errors assume that the covariance matrix of the errors is correctly specified.\n",
      "September in race\n",
      "                            OLS Regression Results                            \n",
      "==============================================================================\n",
      "Dep. Variable:                 twin_x   R-squared:                       0.019\n",
      "Model:                            OLS   Adj. R-squared:                  0.017\n",
      "Method:                 Least Squares   F-statistic:                     9.721\n",
      "Date:                Thu, 08 Dec 2016   Prob (F-statistic):           6.59e-05\n",
      "Time:                        18:21:20   Log-Likelihood:                -704.59\n",
      "No. Observations:                 995   AIC:                             1415.\n",
      "Df Residuals:                     992   BIC:                             1430.\n",
      "Df Model:                           2                                         \n",
      "Covariance Type:            nonrobust                                         \n",
      "==============================================================================\n",
      "                 coef    std err          t      P>|t|      [95.0% Conf. Int.]\n",
      "------------------------------------------------------------------------------\n",
      "const          0.6004      0.026     22.972      0.000         0.549     0.652\n",
      "dltwin_x      -0.1210      0.031     -3.853      0.000        -0.183    -0.059\n",
      "dwper          0.5255      0.227      2.311      0.021         0.079     0.972\n",
      "==============================================================================\n",
      "Omnibus:                       10.541   Durbin-Watson:                   2.064\n",
      "Prob(Omnibus):                  0.005   Jarque-Bera (JB):              153.660\n",
      "Skew:                          -0.254   Prob(JB):                     4.30e-34\n",
      "Kurtosis:                       1.143   Cond. No.                         17.1\n",
      "==============================================================================\n",
      "\n",
      "Warnings:\n",
      "[1] Standard Errors assume that the covariance matrix of the errors is correctly specified.\n"
     ]
    }
   ],
   "source": [
    "print 'August in race'\n",
    "da = d1[d1['month2']==8]\n",
    "da = da[da['gbdl']<=5]\n",
    "Y = da['twin_x']\n",
    "X = sm.add_constant(da[['dltwin_x', 'dwper']])\n",
    "tempOut = sm.OLS(Y, X).fit()\n",
    "print tempOut.summary()\n",
    "\n",
    "print 'September in race'\n",
    "dsi5 = dsi[dsi['gbdl']<=5]\n",
    "Y = dsi5['twin_x']\n",
    "X = sm.add_constant(dsi5[['dltwin_x', 'dwper']])\n",
    "tempOut = sm.OLS(Y, X).fit()\n",
    "print tempOut.summary()"
   ]
  },
  {
   "cell_type": "markdown",
   "metadata": {},
   "source": [
    "# Table 4: Scoreboard Watching Regression with Team Fixed Effects"
   ]
  },
  {
   "cell_type": "code",
   "execution_count": 252,
   "metadata": {
    "collapsed": false,
    "scrolled": true
   },
   "outputs": [
    {
     "name": "stdout",
     "output_type": "stream",
     "text": [
      "September in race with team fixed effects\n",
      "                            OLS Regression Results                            \n",
      "==============================================================================\n",
      "Dep. Variable:                 twin_x   R-squared:                       0.043\n",
      "Model:                            OLS   Adj. R-squared:                  0.015\n",
      "Method:                 Least Squares   F-statistic:                     1.539\n",
      "Date:                Thu, 08 Dec 2016   Prob (F-statistic):             0.0371\n",
      "Time:                        18:21:20   Log-Likelihood:                -692.54\n",
      "No. Observations:                 995   AIC:                             1443.\n",
      "Df Residuals:                     966   BIC:                             1585.\n",
      "Df Model:                          28                                         \n",
      "Covariance Type:            nonrobust                                         \n",
      "==============================================================================\n",
      "                 coef    std err          t      P>|t|      [95.0% Conf. Int.]\n",
      "------------------------------------------------------------------------------\n",
      "const          0.6356      0.110      5.794      0.000         0.420     0.851\n",
      "dltwin_x      -0.1165      0.032     -3.659      0.000        -0.179    -0.054\n",
      "dwper          0.4917      0.239      2.059      0.040         0.023     0.960\n",
      "TX_ATL        -0.1151      0.140     -0.824      0.410        -0.389     0.159\n",
      "TX_BAL         0.1219      0.157      0.778      0.437        -0.186     0.430\n",
      "TX_BOS        -0.0635      0.122     -0.522      0.602        -0.302     0.175\n",
      "TX_CIN        -0.0310      0.143     -0.216      0.829        -0.312     0.250\n",
      "TX_CLE        -0.0549      0.140     -0.393      0.695        -0.329     0.219\n",
      "TX_COL         0.0331      0.128      0.259      0.796        -0.218     0.284\n",
      "TX_CHW        -0.1757      0.138     -1.278      0.202        -0.446     0.094\n",
      "TX_DET        -0.0207      0.138     -0.151      0.880        -0.291     0.249\n",
      "TX_HOU         0.0686      0.196      0.350      0.727        -0.317     0.454\n",
      "TX_KCR        -0.0578      0.167     -0.347      0.729        -0.385     0.269\n",
      "TX_LAA        -0.0543      0.126     -0.431      0.666        -0.301     0.193\n",
      "TX_LAD        -0.0112      0.135     -0.083      0.934        -0.275     0.253\n",
      "TX_MIA        -0.3817      0.245     -1.555      0.120        -0.863     0.100\n",
      "TX_MIL        -0.1582      0.132     -1.196      0.232        -0.418     0.101\n",
      "TX_MIN         0.0435      0.123      0.354      0.723        -0.197     0.284\n",
      "TX_NYM         0.1101      0.189      0.582      0.561        -0.261     0.482\n",
      "TX_NYY         0.0283      0.131      0.217      0.829        -0.228     0.285\n",
      "TX_OAK        -0.0484      0.126     -0.385      0.700        -0.295     0.199\n",
      "TX_PHI        -0.0619      0.125     -0.493      0.622        -0.308     0.184\n",
      "TX_PIT         0.1414      0.135      1.048      0.295        -0.123     0.406\n",
      "TX_SDP        -0.0141      0.126     -0.111      0.912        -0.262     0.234\n",
      "TX_SFG        -0.0606      0.120     -0.507      0.612        -0.295     0.174\n",
      "TX_STL        -0.1579      0.184     -0.860      0.390        -0.518     0.202\n",
      "TX_TBR        -0.0569      0.143     -0.398      0.691        -0.338     0.224\n",
      "TX_TEX        -0.1226      0.133     -0.919      0.358        -0.384     0.139\n",
      "TX_WSN         0.3143      0.505      0.622      0.534        -0.677     1.305\n",
      "==============================================================================\n",
      "Omnibus:                       10.034   Durbin-Watson:                   2.055\n",
      "Prob(Omnibus):                  0.007   Jarque-Bera (JB):              140.058\n",
      "Skew:                          -0.248   Prob(JB):                     3.86e-31\n",
      "Kurtosis:                       1.230   Cond. No.                         45.2\n",
      "==============================================================================\n",
      "\n",
      "Warnings:\n",
      "[1] Standard Errors assume that the covariance matrix of the errors is correctly specified.\n"
     ]
    }
   ],
   "source": [
    "print 'September in race with team fixed effects'\n",
    "namesList = pd.get_dummies(dsi5['team'], prefix='TX') #indicator variables\n",
    "dsi5 = dsi5.join(namesList) #merge with dsi5\n",
    "\n",
    "Y = dsi5['twin_x']\n",
    "X = sm.add_constant(dsi5[['dltwin_x', 'dwper', 'TX_ATL','TX_BAL', 'TX_BOS','TX_CIN','TX_CLE','TX_COL','TX_CHW','TX_DET','TX_HOU','TX_KCR','TX_LAA','TX_LAD','TX_MIA','TX_MIL','TX_MIN','TX_NYM','TX_NYY','TX_OAK','TX_PHI','TX_PIT','TX_SDP','TX_SFG','TX_STL','TX_TBR','TX_TEX','TX_WSN']])\n",
    "tempOut = sm.OLS(Y, X).fit()\n",
    "print tempOut.summary()\n"
   ]
  },
  {
   "cell_type": "markdown",
   "metadata": {},
   "source": [
    "# Table 5: Scoreboard Watching Regression Based on Home/Away"
   ]
  },
  {
   "cell_type": "code",
   "execution_count": 253,
   "metadata": {
    "collapsed": false,
    "scrolled": true
   },
   "outputs": [
    {
     "name": "stdout",
     "output_type": "stream",
     "text": [
      "September in race before 2012\n",
      "                            OLS Regression Results                            \n",
      "==============================================================================\n",
      "Dep. Variable:                 twin_x   R-squared:                       0.014\n",
      "Model:                            OLS   Adj. R-squared:                  0.012\n",
      "Method:                 Least Squares   F-statistic:                     5.407\n",
      "Date:                Thu, 08 Dec 2016   Prob (F-statistic):            0.00466\n",
      "Time:                        18:21:20   Log-Likelihood:                -527.04\n",
      "No. Observations:                 741   AIC:                             1060.\n",
      "Df Residuals:                     738   BIC:                             1074.\n",
      "Df Model:                           2                                         \n",
      "Covariance Type:            nonrobust                                         \n",
      "==============================================================================\n",
      "                 coef    std err          t      P>|t|      [95.0% Conf. Int.]\n",
      "------------------------------------------------------------------------------\n",
      "const          0.6035      0.030     19.843      0.000         0.544     0.663\n",
      "dltwin_x      -0.1126      0.036     -3.087      0.002        -0.184    -0.041\n",
      "dwper          0.3159      0.255      1.238      0.216        -0.185     0.817\n",
      "==============================================================================\n",
      "Omnibus:                        7.091   Durbin-Watson:                   2.028\n",
      "Prob(Omnibus):                  0.029   Jarque-Bera (JB):              116.626\n",
      "Skew:                          -0.241   Prob(JB):                     4.73e-26\n",
      "Kurtosis:                       1.117   Cond. No.                         16.5\n",
      "==============================================================================\n",
      "\n",
      "Warnings:\n",
      "[1] Standard Errors assume that the covariance matrix of the errors is correctly specified.\n",
      "September in race 2012 to 2014\n",
      "                            OLS Regression Results                            \n",
      "==============================================================================\n",
      "Dep. Variable:                 twin_x   R-squared:                       0.049\n",
      "Model:                            OLS   Adj. R-squared:                  0.041\n",
      "Method:                 Least Squares   F-statistic:                     6.445\n",
      "Date:                Thu, 08 Dec 2016   Prob (F-statistic):            0.00186\n",
      "Time:                        18:21:20   Log-Likelihood:                -175.41\n",
      "No. Observations:                 254   AIC:                             356.8\n",
      "Df Residuals:                     251   BIC:                             367.4\n",
      "Df Model:                           2                                         \n",
      "Covariance Type:            nonrobust                                         \n",
      "==============================================================================\n",
      "                 coef    std err          t      P>|t|      [95.0% Conf. Int.]\n",
      "------------------------------------------------------------------------------\n",
      "const          0.5873      0.051     11.509      0.000         0.487     0.688\n",
      "dltwin_x      -0.1522      0.062     -2.469      0.014        -0.274    -0.031\n",
      "dwper          1.4156      0.506      2.798      0.006         0.419     2.412\n",
      "==============================================================================\n",
      "Omnibus:                        3.882   Durbin-Watson:                   2.146\n",
      "Prob(Omnibus):                  0.144   Jarque-Bera (JB):               34.889\n",
      "Skew:                          -0.301   Prob(JB):                     2.65e-08\n",
      "Kurtosis:                       1.287   Cond. No.                         19.6\n",
      "==============================================================================\n",
      "\n",
      "Warnings:\n",
      "[1] Standard Errors assume that the covariance matrix of the errors is correctly specified.\n"
     ]
    }
   ],
   "source": [
    "print 'September in race before 2012'\n",
    "db2012 = dsi5[dsi5['Season']<2012]\n",
    "Y = db2012['twin_x']\n",
    "X = sm.add_constant(db2012[['dltwin_x', 'dwper']])\n",
    "tempOut = sm.OLS(Y, X).fit()\n",
    "print tempOut.summary()\n",
    "\n",
    "print 'September in race 2012 to 2014'\n",
    "da2012 = dsi5[dsi5['Season']>=2012]\n",
    "Y = da2012['twin_x']\n",
    "X = sm.add_constant(da2012[['dltwin_x', 'dwper']])\n",
    "tempOut = sm.OLS(Y, X).fit()\n",
    "print tempOut.summary()"
   ]
  },
  {
   "cell_type": "markdown",
   "metadata": {},
   "source": [
    "# Table 6: Scoreboard Watching Regression Based on Playoff Structure"
   ]
  },
  {
   "cell_type": "code",
   "execution_count": 254,
   "metadata": {
    "collapsed": false,
    "scrolled": true
   },
   "outputs": [
    {
     "name": "stdout",
     "output_type": "stream",
     "text": [
      "September in race: home team\n",
      "                            OLS Regression Results                            \n",
      "==============================================================================\n",
      "Dep. Variable:                 twin_x   R-squared:                       0.059\n",
      "Model:                            OLS   Adj. R-squared:                  0.055\n",
      "Method:                 Least Squares   F-statistic:                     15.07\n",
      "Date:                Thu, 08 Dec 2016   Prob (F-statistic):           4.49e-07\n",
      "Time:                        18:21:20   Log-Likelihood:                -333.52\n",
      "No. Observations:                 487   AIC:                             673.0\n",
      "Df Residuals:                     484   BIC:                             685.6\n",
      "Df Model:                           2                                         \n",
      "Covariance Type:            nonrobust                                         \n",
      "==============================================================================\n",
      "                 coef    std err          t      P>|t|      [95.0% Conf. Int.]\n",
      "------------------------------------------------------------------------------\n",
      "const          0.6670      0.036     18.604      0.000         0.597     0.737\n",
      "dltwin_x      -0.2326      0.044     -5.331      0.000        -0.318    -0.147\n",
      "dwper          0.4094      0.321      1.277      0.202        -0.220     1.039\n",
      "==============================================================================\n",
      "Omnibus:                        6.346   Durbin-Watson:                   2.027\n",
      "Prob(Omnibus):                  0.042   Jarque-Bera (JB):               62.949\n",
      "Skew:                          -0.281   Prob(JB):                     2.14e-14\n",
      "Kurtosis:                       1.330   Cond. No.                         16.9\n",
      "==============================================================================\n",
      "\n",
      "Warnings:\n",
      "[1] Standard Errors assume that the covariance matrix of the errors is correctly specified.\n",
      "September in race: away team\n",
      "                            OLS Regression Results                            \n",
      "==============================================================================\n",
      "Dep. Variable:                 twin_x   R-squared:                       0.006\n",
      "Model:                            OLS   Adj. R-squared:                  0.002\n",
      "Method:                 Least Squares   F-statistic:                     1.492\n",
      "Date:                Thu, 08 Dec 2016   Prob (F-statistic):              0.226\n",
      "Time:                        18:21:20   Log-Likelihood:                -364.32\n",
      "No. Observations:                 508   AIC:                             734.6\n",
      "Df Residuals:                     505   BIC:                             747.3\n",
      "Df Model:                           2                                         \n",
      "Covariance Type:            nonrobust                                         \n",
      "==============================================================================\n",
      "                 coef    std err          t      P>|t|      [95.0% Conf. Int.]\n",
      "------------------------------------------------------------------------------\n",
      "const          0.5280      0.038     13.925      0.000         0.453     0.602\n",
      "dltwin_x      -0.0086      0.045     -0.190      0.849        -0.097     0.080\n",
      "dwper          0.5530      0.320      1.727      0.085        -0.076     1.182\n",
      "==============================================================================\n",
      "Omnibus:                        3.922   Durbin-Watson:                   1.934\n",
      "Prob(Omnibus):                  0.141   Jarque-Bera (JB):               82.737\n",
      "Skew:                          -0.214   Prob(JB):                     1.08e-18\n",
      "Kurtosis:                       1.070   Cond. No.                         17.4\n",
      "==============================================================================\n",
      "\n",
      "Warnings:\n",
      "[1] Standard Errors assume that the covariance matrix of the errors is correctly specified.\n"
     ]
    }
   ],
   "source": [
    "print 'September in race: home team'\n",
    "dhome = dsi5[dsi5['isthome']==1]\n",
    "Y = dhome['twin_x']\n",
    "X = sm.add_constant(dhome[['dltwin_x', 'dwper']])\n",
    "tempOut = sm.OLS(Y, X).fit()\n",
    "print tempOut.summary()\n",
    "\n",
    "print 'September in race: away team'\n",
    "daway = dsi5[dsi5['isthome']==0]\n",
    "Y = daway['twin_x']\n",
    "X = sm.add_constant(daway[['dltwin_x', 'dwper']])\n",
    "tempOut = sm.OLS(Y, X).fit()\n",
    "print tempOut.summary()"
   ]
  },
  {
   "cell_type": "markdown",
   "metadata": {},
   "source": [
    "# Table 7: Scoreboard Watching Regression Based on Games Remaining"
   ]
  },
  {
   "cell_type": "code",
   "execution_count": 255,
   "metadata": {
    "collapsed": false,
    "scrolled": true
   },
   "outputs": [
    {
     "name": "stdout",
     "output_type": "stream",
     "text": [
      "September in race with more than 20 games remaining\n",
      "                            OLS Regression Results                            \n",
      "==============================================================================\n",
      "Dep. Variable:                 twin_x   R-squared:                       0.007\n",
      "Model:                            OLS   Adj. R-squared:                  0.001\n",
      "Method:                 Least Squares   F-statistic:                     1.128\n",
      "Date:                Thu, 08 Dec 2016   Prob (F-statistic):              0.325\n",
      "Time:                        18:21:20   Log-Likelihood:                -215.40\n",
      "No. Observations:                 303   AIC:                             436.8\n",
      "Df Residuals:                     300   BIC:                             447.9\n",
      "Df Model:                           2                                         \n",
      "Covariance Type:            nonrobust                                         \n",
      "==============================================================================\n",
      "                 coef    std err          t      P>|t|      [95.0% Conf. Int.]\n",
      "------------------------------------------------------------------------------\n",
      "const          0.6305      0.048     13.226      0.000         0.537     0.724\n",
      "dltwin_x      -0.0532      0.058     -0.924      0.356        -0.166     0.060\n",
      "dwper         -0.4375      0.405     -1.079      0.281        -1.235     0.360\n",
      "==============================================================================\n",
      "Omnibus:                        4.473   Durbin-Watson:                   1.962\n",
      "Prob(Omnibus):                  0.107   Jarque-Bera (JB):               49.155\n",
      "Skew:                          -0.297   Prob(JB):                     2.12e-11\n",
      "Kurtosis:                       1.118   Cond. No.                         16.8\n",
      "==============================================================================\n",
      "\n",
      "Warnings:\n",
      "[1] Standard Errors assume that the covariance matrix of the errors is correctly specified.\n",
      "September in race with more than 10 and less than 20 games remaining\n",
      "                            OLS Regression Results                            \n",
      "==============================================================================\n",
      "Dep. Variable:                 twin_x   R-squared:                       0.021\n",
      "Model:                            OLS   Adj. R-squared:                  0.016\n",
      "Method:                 Least Squares   F-statistic:                     3.992\n",
      "Date:                Thu, 08 Dec 2016   Prob (F-statistic):             0.0192\n",
      "Time:                        18:21:20   Log-Likelihood:                -269.28\n",
      "No. Observations:                 379   AIC:                             544.6\n",
      "Df Residuals:                     376   BIC:                             556.4\n",
      "Df Model:                           2                                         \n",
      "Covariance Type:            nonrobust                                         \n",
      "==============================================================================\n",
      "                 coef    std err          t      P>|t|      [95.0% Conf. Int.]\n",
      "------------------------------------------------------------------------------\n",
      "const          0.5368      0.043     12.346      0.000         0.451     0.622\n",
      "dltwin_x      -0.0681      0.051     -1.333      0.183        -0.168     0.032\n",
      "dwper          0.9091      0.377      2.412      0.016         0.168     1.650\n",
      "==============================================================================\n",
      "Omnibus:                        2.614   Durbin-Watson:                   1.998\n",
      "Prob(Omnibus):                  0.271   Jarque-Bera (JB):               58.134\n",
      "Skew:                          -0.202   Prob(JB):                     2.38e-13\n",
      "Kurtosis:                       1.124   Cond. No.                         17.4\n",
      "==============================================================================\n",
      "\n",
      "Warnings:\n",
      "[1] Standard Errors assume that the covariance matrix of the errors is correctly specified.\n",
      "September in race with 10 or fewer games remaining\n",
      "                            OLS Regression Results                            \n",
      "==============================================================================\n",
      "Dep. Variable:                 twin_x   R-squared:                       0.076\n",
      "Model:                            OLS   Adj. R-squared:                  0.070\n",
      "Method:                 Least Squares   F-statistic:                     12.66\n",
      "Date:                Thu, 08 Dec 2016   Prob (F-statistic):           5.19e-06\n",
      "Time:                        18:21:20   Log-Likelihood:                -211.91\n",
      "No. Observations:                 313   AIC:                             429.8\n",
      "Df Residuals:                     310   BIC:                             441.0\n",
      "Df Model:                           2                                         \n",
      "Covariance Type:            nonrobust                                         \n",
      "==============================================================================\n",
      "                 coef    std err          t      P>|t|      [95.0% Conf. Int.]\n",
      "------------------------------------------------------------------------------\n",
      "const          0.6459      0.044     14.547      0.000         0.559     0.733\n",
      "dltwin_x      -0.2429      0.055     -4.435      0.000        -0.351    -0.135\n",
      "dwper          1.1297      0.401      2.818      0.005         0.341     1.919\n",
      "==============================================================================\n",
      "Omnibus:                        4.074   Durbin-Watson:                   2.019\n",
      "Prob(Omnibus):                  0.130   Jarque-Bera (JB):               37.699\n",
      "Skew:                          -0.278   Prob(JB):                     6.51e-09\n",
      "Kurtosis:                       1.393   Cond. No.                         17.5\n",
      "==============================================================================\n",
      "\n",
      "Warnings:\n",
      "[1] Standard Errors assume that the covariance matrix of the errors is correctly specified.\n"
     ]
    }
   ],
   "source": [
    "print 'September in race with more than 20 games remaining'\n",
    "d20 = dsi5[dsi5['gr']>20]\n",
    "Y = d20['twin_x']\n",
    "X = sm.add_constant(d20[['dltwin_x', 'dwper']])\n",
    "tempOut = sm.OLS(Y, X).fit()\n",
    "print tempOut.summary()\n",
    "\n",
    "print 'September in race with more than 10 and less than 20 games remaining'\n",
    "d10 = dsi5[dsi5['gr']>10]\n",
    "d10 = d10[d10['gr']<=20]\n",
    "Y = d10['twin_x']\n",
    "X = sm.add_constant(d10[['dltwin_x', 'dwper']])\n",
    "tempOut = sm.OLS(Y, X).fit()\n",
    "print tempOut.summary()\n",
    "\n",
    "print 'September in race with 10 or fewer games remaining'\n",
    "dend = dsi5[dsi5['gr']<=10]\n",
    "Y = dend['twin_x']\n",
    "X = sm.add_constant(dend[['dltwin_x', 'dwper']])\n",
    "tempOut = sm.OLS(Y, X).fit()\n",
    "print tempOut.summary()"
   ]
  },
  {
   "cell_type": "markdown",
   "metadata": {},
   "source": [
    "# Table 8: Impact of Roster’s Average Age on Scoreboard Watching"
   ]
  },
  {
   "cell_type": "code",
   "execution_count": 256,
   "metadata": {
    "collapsed": false,
    "scrolled": true
   },
   "outputs": [
    {
     "name": "stdout",
     "output_type": "stream",
     "text": [
      "Regression based on Average Age\n",
      "                            OLS Regression Results                            \n",
      "==============================================================================\n",
      "Dep. Variable:                 twin_x   R-squared:                       0.019\n",
      "Model:                            OLS   Adj. R-squared:                  0.016\n",
      "Method:                 Least Squares   F-statistic:                     6.522\n",
      "Date:                Thu, 08 Dec 2016   Prob (F-statistic):           0.000228\n",
      "Time:                        18:21:20   Log-Likelihood:                -704.52\n",
      "No. Observations:                 995   AIC:                             1417.\n",
      "Df Residuals:                     991   BIC:                             1437.\n",
      "Df Model:                           3                                         \n",
      "Covariance Type:            nonrobust                                         \n",
      "==============================================================================\n",
      "                 coef    std err          t      P>|t|      [95.0% Conf. Int.]\n",
      "------------------------------------------------------------------------------\n",
      "const          0.6012      0.026     22.927      0.000         0.550     0.653\n",
      "dltwin_x      -0.1227      0.032     -3.864      0.000        -0.185    -0.060\n",
      "dwper          0.5115      0.231      2.218      0.027         0.059     0.964\n",
      "intdiffage     0.0049      0.013      0.374      0.709        -0.021     0.031\n",
      "==============================================================================\n",
      "Omnibus:                       10.534   Durbin-Watson:                   1.894\n",
      "Prob(Omnibus):                  0.005   Jarque-Bera (JB):              153.562\n",
      "Skew:                          -0.254   Prob(JB):                     4.51e-34\n",
      "Kurtosis:                       1.144   Cond. No.                         19.6\n",
      "==============================================================================\n",
      "\n",
      "Warnings:\n",
      "[1] Standard Errors assume that the covariance matrix of the errors is correctly specified.\n",
      "Based on Position Age\n",
      "                            OLS Regression Results                            \n",
      "==============================================================================\n",
      "Dep. Variable:                 twin_x   R-squared:                       0.020\n",
      "Model:                            OLS   Adj. R-squared:                  0.016\n",
      "Method:                 Least Squares   F-statistic:                     5.107\n",
      "Date:                Thu, 08 Dec 2016   Prob (F-statistic):           0.000448\n",
      "Time:                        18:21:20   Log-Likelihood:                -704.09\n",
      "No. Observations:                 995   AIC:                             1418.\n",
      "Df Residuals:                     990   BIC:                             1443.\n",
      "Df Model:                           4                                         \n",
      "Covariance Type:            nonrobust                                         \n",
      "=================================================================================\n",
      "                    coef    std err          t      P>|t|      [95.0% Conf. Int.]\n",
      "---------------------------------------------------------------------------------\n",
      "const             0.6024      0.026     22.943      0.000         0.551     0.654\n",
      "dltwin_x         -0.1265      0.032     -3.950      0.000        -0.189    -0.064\n",
      "dwper             0.4883      0.232      2.105      0.036         0.033     0.943\n",
      "intdiffagebat    -0.0058      0.013     -0.438      0.661        -0.032     0.020\n",
      "intdiffagepit     0.0117      0.012      1.001      0.317        -0.011     0.035\n",
      "==============================================================================\n",
      "Omnibus:                       10.487   Durbin-Watson:                   1.895\n",
      "Prob(Omnibus):                  0.005   Jarque-Bera (JB):              152.973\n",
      "Skew:                          -0.253   Prob(JB):                     6.06e-34\n",
      "Kurtosis:                       1.147   Cond. No.                         27.2\n",
      "==============================================================================\n",
      "\n",
      "Warnings:\n",
      "[1] Standard Errors assume that the covariance matrix of the errors is correctly specified.\n",
      "Logs of difference in age\n",
      "                            OLS Regression Results                            \n",
      "==============================================================================\n",
      "Dep. Variable:                 twin_x   R-squared:                       0.019\n",
      "Model:                            OLS   Adj. R-squared:                  0.016\n",
      "Method:                 Least Squares   F-statistic:                     6.508\n",
      "Date:                Thu, 08 Dec 2016   Prob (F-statistic):           0.000232\n",
      "Time:                        18:21:20   Log-Likelihood:                -704.54\n",
      "No. Observations:                 995   AIC:                             1417.\n",
      "Df Residuals:                     991   BIC:                             1437.\n",
      "Df Model:                           3                                         \n",
      "Covariance Type:            nonrobust                                         \n",
      "================================================================================\n",
      "                   coef    std err          t      P>|t|      [95.0% Conf. Int.]\n",
      "--------------------------------------------------------------------------------\n",
      "const            0.6010      0.026     22.921      0.000         0.550     0.652\n",
      "dltwin_x        -0.1225      0.032     -3.855      0.000        -0.185    -0.060\n",
      "dwper            0.5137      0.231      2.227      0.026         0.061     0.966\n",
      "lnintdiffage     0.1216      0.386      0.315      0.753        -0.635     0.878\n",
      "==============================================================================\n",
      "Omnibus:                       10.535   Durbin-Watson:                   1.895\n",
      "Prob(Omnibus):                  0.005   Jarque-Bera (JB):              153.589\n",
      "Skew:                          -0.254   Prob(JB):                     4.45e-34\n",
      "Kurtosis:                       1.144   Cond. No.                         29.2\n",
      "==============================================================================\n",
      "\n",
      "Warnings:\n",
      "[1] Standard Errors assume that the covariance matrix of the errors is correctly specified.\n",
      "Logs of difference in age by position\n",
      "                            OLS Regression Results                            \n",
      "==============================================================================\n",
      "Dep. Variable:                 twin_x   R-squared:                       0.020\n",
      "Model:                            OLS   Adj. R-squared:                  0.016\n",
      "Method:                 Least Squares   F-statistic:                     5.082\n",
      "Date:                Thu, 08 Dec 2016   Prob (F-statistic):           0.000468\n",
      "Time:                        18:21:20   Log-Likelihood:                -704.14\n",
      "No. Observations:                 995   AIC:                             1418.\n",
      "Df Residuals:                     990   BIC:                             1443.\n",
      "Df Model:                           4                                         \n",
      "Covariance Type:            nonrobust                                         \n",
      "===================================================================================\n",
      "                      coef    std err          t      P>|t|      [95.0% Conf. Int.]\n",
      "-----------------------------------------------------------------------------------\n",
      "const               0.6022      0.026     22.936      0.000         0.551     0.654\n",
      "dltwin_x           -0.1261      0.032     -3.937      0.000        -0.189    -0.063\n",
      "dwper               0.4917      0.232      2.120      0.034         0.037     0.947\n",
      "lnintdiffagebat    -0.1716      0.384     -0.447      0.655        -0.925     0.582\n",
      "lnintdiffagepit     0.3253      0.342      0.951      0.342        -0.346     0.997\n",
      "==============================================================================\n",
      "Omnibus:                       10.492   Durbin-Watson:                   1.895\n",
      "Prob(Omnibus):                  0.005   Jarque-Bera (JB):              153.042\n",
      "Skew:                          -0.254   Prob(JB):                     5.85e-34\n",
      "Kurtosis:                       1.147   Cond. No.                         32.9\n",
      "==============================================================================\n",
      "\n",
      "Warnings:\n",
      "[1] Standard Errors assume that the covariance matrix of the errors is correctly specified.\n"
     ]
    }
   ],
   "source": [
    "print 'Regression based on Average Age'\n",
    "dsage = pd.merge(dsi5,dage, left_on=['team', 'Season'], right_on=['Tm', 'Season'])\n",
    "dsavg = pd.merge(dsage,dage, left_on=['opp', 'Season'], right_on=['Tm', 'Season'])\n",
    "dsavg['diffage'] = dsavg['AvgAge_x'] - dsavg['AvgAge_y']\n",
    "dsavg['intdiffage'] = dsavg['diffage']* dsavg['dltwin_x']\n",
    "dsavg['diffagebat'] = dsavg['BatAge_x'] - dsavg['BatAge_y']\n",
    "dsavg['intdiffagebat'] = dsavg['diffagebat']* dsavg['dltwin_x']\n",
    "dsavg['diffagepit'] = dsavg['PAge_x'] - dsavg['PAge_y']\n",
    "dsavg['intdiffagepit'] = dsavg['diffagepit']* dsavg['dltwin_x']\n",
    "\n",
    "Y = dsavg['twin_x']\n",
    "X = sm.add_constant(dsavg[['dltwin_x', 'dwper', 'intdiffage']])\n",
    "tempOut = sm.OLS(Y, X).fit()\n",
    "print tempOut.summary()\n",
    "\n",
    "print 'Based on Position Age'\n",
    "Y = dsavg['twin_x']\n",
    "X = sm.add_constant(dsavg[['dltwin_x', 'dwper', 'intdiffagebat', 'intdiffagepit']])\n",
    "tempOut = sm.OLS(Y, X).fit()\n",
    "print tempOut.summary()\n",
    "\n",
    "print 'Logs of difference in age'\n",
    "dsavg['lnintdiffage']= np.log(dsavg['AvgAge_x']/dsavg['AvgAge_y'])* dsavg['dltwin_x']\n",
    "Y = dsavg['twin_x']\n",
    "X = sm.add_constant(dsavg[['dltwin_x', 'dwper', 'lnintdiffage']])\n",
    "tempOut = sm.OLS(Y, X).fit()\n",
    "print tempOut.summary()\n",
    "\n",
    "print 'Logs of difference in age by position'\n",
    "dsavg['lnintdiffagebat']= np.log(dsavg['BatAge_x']/dsavg['BatAge_y'])* dsavg['dltwin_x']\n",
    "dsavg['lnintdiffagepit']= np.log(dsavg['PAge_x']/dsavg['PAge_y'])* dsavg['dltwin_x']\n",
    "Y = dsavg['twin_x']\n",
    "X = sm.add_constant(dsavg[['dltwin_x', 'dwper', 'lnintdiffagebat', 'lnintdiffagepit']])\n",
    "tempOut = sm.OLS(Y, X).fit()\n",
    "print tempOut.summary()"
   ]
  },
  {
   "cell_type": "markdown",
   "metadata": {},
   "source": [
    "# Table 9: Impact of Team Payroll on Scoreboard Watching"
   ]
  },
  {
   "cell_type": "code",
   "execution_count": 257,
   "metadata": {
    "collapsed": false,
    "scrolled": true
   },
   "outputs": [
    {
     "name": "stdout",
     "output_type": "stream",
     "text": [
      "Interaction of scoreboard watching with team payroll\n",
      "                            OLS Regression Results                            \n",
      "==============================================================================\n",
      "Dep. Variable:                 twin_x   R-squared:                       0.019\n",
      "Model:                            OLS   Adj. R-squared:                  0.016\n",
      "Method:                 Least Squares   F-statistic:                     6.532\n",
      "Date:                Thu, 08 Dec 2016   Prob (F-statistic):           0.000224\n",
      "Time:                        18:21:20   Log-Likelihood:                -704.51\n",
      "No. Observations:                 995   AIC:                             1417.\n",
      "Df Residuals:                     991   BIC:                             1437.\n",
      "Df Model:                           3                                         \n",
      "Covariance Type:            nonrobust                                         \n",
      "================================================================================\n",
      "                   coef    std err          t      P>|t|      [95.0% Conf. Int.]\n",
      "--------------------------------------------------------------------------------\n",
      "const            0.6015      0.026     22.895      0.000         0.550     0.653\n",
      "dltwin_x        -0.1231      0.032     -3.868      0.000        -0.186    -0.061\n",
      "dwper            0.5054      0.233      2.172      0.030         0.049     0.962\n",
      "lnintdiffsal     0.0155      0.038      0.413      0.680        -0.058     0.089\n",
      "==============================================================================\n",
      "Omnibus:                       10.533   Durbin-Watson:                   1.894\n",
      "Prob(Omnibus):                  0.005   Jarque-Bera (JB):              153.548\n",
      "Skew:                          -0.254   Prob(JB):                     4.55e-34\n",
      "Kurtosis:                       1.144   Cond. No.                         17.6\n",
      "==============================================================================\n",
      "\n",
      "Warnings:\n",
      "[1] Standard Errors assume that the covariance matrix of the errors is correctly specified.\n",
      "Interaction of scoreboard watching with team payroll rank\n",
      "                            OLS Regression Results                            \n",
      "==============================================================================\n",
      "Dep. Variable:                 twin_x   R-squared:                       0.020\n",
      "Model:                            OLS   Adj. R-squared:                  0.017\n",
      "Method:                 Least Squares   F-statistic:                     6.670\n",
      "Date:                Thu, 08 Dec 2016   Prob (F-statistic):           0.000185\n",
      "Time:                        18:21:20   Log-Likelihood:                -704.30\n",
      "No. Observations:                 995   AIC:                             1417.\n",
      "Df Residuals:                     991   BIC:                             1436.\n",
      "Df Model:                           3                                         \n",
      "Covariance Type:            nonrobust                                         \n",
      "=================================================================================\n",
      "                    coef    std err          t      P>|t|      [95.0% Conf. Int.]\n",
      "---------------------------------------------------------------------------------\n",
      "const             0.6023      0.026     22.934      0.000         0.551     0.654\n",
      "dltwin_x         -0.1243      0.032     -3.920      0.000        -0.187    -0.062\n",
      "dwper             0.4887      0.233      2.101      0.036         0.032     0.945\n",
      "lnintdiffrank    -0.0129      0.017     -0.759      0.448        -0.046     0.020\n",
      "==============================================================================\n",
      "Omnibus:                       10.540   Durbin-Watson:                   1.893\n",
      "Prob(Omnibus):                  0.005   Jarque-Bera (JB):              153.289\n",
      "Skew:                          -0.254   Prob(JB):                     5.17e-34\n",
      "Kurtosis:                       1.146   Cond. No.                         18.0\n",
      "==============================================================================\n",
      "\n",
      "Warnings:\n",
      "[1] Standard Errors assume that the covariance matrix of the errors is correctly specified.\n"
     ]
    }
   ],
   "source": [
    "dspay = pd.merge(dsi5,dpay, left_on=['team', 'Season'], right_on=['Team', 'Year'])\n",
    "dsal = pd.merge(dspay,dpay, left_on=['opp', 'Season'], right_on=['Team', 'Year'])\n",
    "dsal['diffsal'] = dsal['End Pay_x'] - dsal['End Pay_y']\n",
    "dsal['intdiffsal'] = dsal['diffsal']* dsal['dltwin_x']\n",
    "dsal['diffrank'] = dsal['End Rank_x'] - dsal['End Rank_y']\n",
    "dsal['intdiffrank'] = dsal['diffrank']* dsal['dltwin_x']\n",
    "dsal['lnintdiffsal']= np.log(dsal['End Pay_x']/dsal['End Pay_y'])* dsal['dltwin_x']\n",
    "dsal['lnintdiffrank']= np.log(dsal['End Rank_x']/dsal['End Rank_y'])* dsal['dltwin_x']\n",
    "\n",
    "print 'Interaction of scoreboard watching with team payroll'\n",
    "Y = dsal['twin_x']\n",
    "X = sm.add_constant(dsal[['dltwin_x', 'dwper', 'lnintdiffsal']])\n",
    "tempOut = sm.OLS(Y, X).fit()\n",
    "print tempOut.summary()\n",
    "\n",
    "print 'Interaction of scoreboard watching with team payroll rank'\n",
    "Y = dsal['twin_x']\n",
    "X = sm.add_constant(dsal[['dltwin_x', 'dwper', 'lnintdiffrank']])\n",
    "tempOut = sm.OLS(Y, X).fit()\n",
    "print tempOut.summary()"
   ]
  },
  {
   "cell_type": "markdown",
   "metadata": {},
   "source": [
    "# Table 10: Impact of Managerial Experience on Scoreboard Watching"
   ]
  },
  {
   "cell_type": "code",
   "execution_count": 258,
   "metadata": {
    "collapsed": false,
    "scrolled": true
   },
   "outputs": [
    {
     "name": "stdout",
     "output_type": "stream",
     "text": [
      "Interaction of scoreboard watching with playoff seasons\n",
      "                            OLS Regression Results                            \n",
      "==============================================================================\n",
      "Dep. Variable:                 twin_x   R-squared:                       0.019\n",
      "Model:                            OLS   Adj. R-squared:                  0.017\n",
      "Method:                 Least Squares   F-statistic:                     6.571\n",
      "Date:                Thu, 08 Dec 2016   Prob (F-statistic):           0.000212\n",
      "Time:                        18:21:20   Log-Likelihood:                -706.42\n",
      "No. Observations:                 997   AIC:                             1421.\n",
      "Df Residuals:                     993   BIC:                             1440.\n",
      "Df Model:                           3                                         \n",
      "Covariance Type:            nonrobust                                         \n",
      "==================================================================================\n",
      "                     coef    std err          t      P>|t|      [95.0% Conf. Int.]\n",
      "----------------------------------------------------------------------------------\n",
      "const              0.5975      0.026     22.815      0.000         0.546     0.649\n",
      "dltwin_x          -0.1204      0.032     -3.816      0.000        -0.182    -0.058\n",
      "dwper              0.5004      0.232      2.159      0.031         0.046     0.955\n",
      "intdiffplayoff     0.0042      0.004      0.942      0.346        -0.005     0.013\n",
      "==============================================================================\n",
      "Omnibus:                        9.946   Durbin-Watson:                   1.864\n",
      "Prob(Omnibus):                  0.007   Jarque-Bera (JB):              153.834\n",
      "Skew:                          -0.246   Prob(JB):                     3.94e-34\n",
      "Kurtosis:                       1.140   Cond. No.                         53.8\n",
      "==============================================================================\n",
      "\n",
      "Warnings:\n",
      "[1] Standard Errors assume that the covariance matrix of the errors is correctly specified.\n",
      "Interaction of scoreboard watching with seasons managed\n",
      "                            OLS Regression Results                            \n",
      "==============================================================================\n",
      "Dep. Variable:                 twin_x   R-squared:                       0.020\n",
      "Model:                            OLS   Adj. R-squared:                  0.017\n",
      "Method:                 Least Squares   F-statistic:                     6.643\n",
      "Date:                Thu, 08 Dec 2016   Prob (F-statistic):           0.000192\n",
      "Time:                        18:21:20   Log-Likelihood:                -706.31\n",
      "No. Observations:                 997   AIC:                             1421.\n",
      "Df Residuals:                     993   BIC:                             1440.\n",
      "Df Model:                           3                                         \n",
      "Covariance Type:            nonrobust                                         \n",
      "==================================================================================\n",
      "                     coef    std err          t      P>|t|      [95.0% Conf. Int.]\n",
      "----------------------------------------------------------------------------------\n",
      "const              0.5973      0.026     22.833      0.000         0.546     0.649\n",
      "dltwin_x          -0.1214      0.032     -3.839      0.000        -0.184    -0.059\n",
      "dwper              0.5057      0.230      2.194      0.028         0.053     0.958\n",
      "intdiffseasons     0.0023      0.002      1.048      0.295        -0.002     0.007\n",
      "==============================================================================\n",
      "Omnibus:                        9.957   Durbin-Watson:                   1.868\n",
      "Prob(Omnibus):                  0.007   Jarque-Bera (JB):              153.697\n",
      "Skew:                          -0.247   Prob(JB):                     4.22e-34\n",
      "Kurtosis:                       1.141   Cond. No.                         110.\n",
      "==============================================================================\n",
      "\n",
      "Warnings:\n",
      "[1] Standard Errors assume that the covariance matrix of the errors is correctly specified.\n",
      "Interaction of scoreboard watching with percent of seasons in playoffs\n",
      "                            OLS Regression Results                            \n",
      "==============================================================================\n",
      "Dep. Variable:                 twin_x   R-squared:                       0.019\n",
      "Model:                            OLS   Adj. R-squared:                  0.016\n",
      "Method:                 Least Squares   F-statistic:                     6.482\n",
      "Date:                Thu, 08 Dec 2016   Prob (F-statistic):           0.000241\n",
      "Time:                        18:21:20   Log-Likelihood:                -706.55\n",
      "No. Observations:                 997   AIC:                             1421.\n",
      "Df Residuals:                     993   BIC:                             1441.\n",
      "Df Model:                           3                                         \n",
      "Covariance Type:            nonrobust                                         \n",
      "==================================================================================\n",
      "                     coef    std err          t      P>|t|      [95.0% Conf. Int.]\n",
      "----------------------------------------------------------------------------------\n",
      "const              0.5974      0.026     22.791      0.000         0.546     0.649\n",
      "dltwin_x          -0.1209      0.032     -3.810      0.000        -0.183    -0.059\n",
      "dwper              0.5023      0.233      2.159      0.031         0.046     0.959\n",
      "intdiffplayper     0.0531      0.067      0.791      0.429        -0.079     0.185\n",
      "==============================================================================\n",
      "Omnibus:                        9.895   Durbin-Watson:                   1.858\n",
      "Prob(Omnibus):                  0.007   Jarque-Bera (JB):              153.954\n",
      "Skew:                          -0.246   Prob(JB):                     3.71e-34\n",
      "Kurtosis:                       1.139   Cond. No.                         17.5\n",
      "==============================================================================\n",
      "\n",
      "Warnings:\n",
      "[1] Standard Errors assume that the covariance matrix of the errors is correctly specified.\n"
     ]
    }
   ],
   "source": [
    "dman = pd.merge(dsi5,dmgr, left_on=['team', 'Season'], right_on=['Team', 'Season'])\n",
    "dmanager = pd.merge(dman,dmgr, left_on=['opp', 'Season'], right_on=['Team', 'Season'])\n",
    "dmanager['diffplayoff'] = dmanager['Prior Playoff_x'] - dmanager['Prior Playoff_y']\n",
    "dmanager['intdiffplayoff'] = dmanager['diffplayoff']* dmanager['dltwin_x']\n",
    "dmanager['diffseasons'] = dmanager['Prior Seasons Managed_x'] - dmanager['Prior Seasons Managed_y']\n",
    "dmanager['intdiffseasons'] = dmanager['diffseasons']* dmanager['dltwin_x']\n",
    "dmanager['diffplayper'] = dmanager['playoff per season_x'] - dmanager['playoff per season_y']\n",
    "dmanager['intdiffplayper'] = dmanager['diffplayper']* dmanager['dltwin_x']\n",
    "\n",
    "print 'Interaction of scoreboard watching with playoff seasons'\n",
    "Y = dmanager['twin_x']\n",
    "X = sm.add_constant(dmanager[['dltwin_x', 'dwper', 'intdiffplayoff']])\n",
    "tempOut = sm.OLS(Y, X).fit()\n",
    "print tempOut.summary()\n",
    "\n",
    "print 'Interaction of scoreboard watching with seasons managed'\n",
    "Y = dmanager['twin_x']\n",
    "X = sm.add_constant(dmanager[['dltwin_x', 'dwper', 'intdiffseasons']])\n",
    "tempOut = sm.OLS(Y, X).fit()\n",
    "print tempOut.summary()\n",
    "\n",
    "print 'Interaction of scoreboard watching with percent of seasons in playoffs'\n",
    "Y = dmanager['twin_x']\n",
    "X = sm.add_constant(dmanager[['dltwin_x', 'dwper', 'intdiffplayper']])\n",
    "tempOut = sm.OLS(Y, X).fit()\n",
    "print tempOut.summary()"
   ]
  },
  {
   "cell_type": "markdown",
   "metadata": {},
   "source": [
    "# Table 11: Impact of Momentum on Scoreboard Watching"
   ]
  },
  {
   "cell_type": "code",
   "execution_count": 259,
   "metadata": {
    "collapsed": false,
    "scrolled": true
   },
   "outputs": [
    {
     "name": "stdout",
     "output_type": "stream",
     "text": [
      "Interaction of scoreboard watching with Streaks\n",
      "                            OLS Regression Results                            \n",
      "==============================================================================\n",
      "Dep. Variable:                 twin_x   R-squared:                       0.020\n",
      "Model:                            OLS   Adj. R-squared:                  0.017\n",
      "Method:                 Least Squares   F-statistic:                     6.713\n",
      "Date:                Thu, 08 Dec 2016   Prob (F-statistic):           0.000174\n",
      "Time:                        18:21:20   Log-Likelihood:                -704.24\n",
      "No. Observations:                 995   AIC:                             1416.\n",
      "Df Residuals:                     991   BIC:                             1436.\n",
      "Df Model:                           3                                         \n",
      "Covariance Type:            nonrobust                                         \n",
      "=================================================================================\n",
      "                    coef    std err          t      P>|t|      [95.0% Conf. Int.]\n",
      "---------------------------------------------------------------------------------\n",
      "const             0.5993      0.026     22.892      0.000         0.548     0.651\n",
      "dltwin_x         -0.1166      0.032     -3.662      0.000        -0.179    -0.054\n",
      "dwper             0.5478      0.229      2.392      0.017         0.098     0.997\n",
      "intdiffstreak    -0.0040      0.005     -0.838      0.402        -0.013     0.005\n",
      "==============================================================================\n",
      "Omnibus:                       10.569   Durbin-Watson:                   2.062\n",
      "Prob(Omnibus):                  0.005   Jarque-Bera (JB):              153.234\n",
      "Skew:                          -0.254   Prob(JB):                     5.32e-34\n",
      "Kurtosis:                       1.146   Cond. No.                         49.9\n",
      "==============================================================================\n",
      "\n",
      "Warnings:\n",
      "[1] Standard Errors assume that the covariance matrix of the errors is correctly specified.\n",
      "Interaction of scoreboard watching with Winning Streaks\n",
      "                            OLS Regression Results                            \n",
      "==============================================================================\n",
      "Dep. Variable:                 twin_x   R-squared:                       0.028\n",
      "Model:                            OLS   Adj. R-squared:                  0.023\n",
      "Method:                 Least Squares   F-statistic:                     5.731\n",
      "Date:                Thu, 08 Dec 2016   Prob (F-statistic):           0.000719\n",
      "Time:                        18:21:20   Log-Likelihood:                -420.31\n",
      "No. Observations:                 602   AIC:                             848.6\n",
      "Df Residuals:                     598   BIC:                             866.2\n",
      "Df Model:                           3                                         \n",
      "Covariance Type:            nonrobust                                         \n",
      "=================================================================================\n",
      "                    coef    std err          t      P>|t|      [95.0% Conf. Int.]\n",
      "---------------------------------------------------------------------------------\n",
      "const             0.6371      0.033     19.261      0.000         0.572     0.702\n",
      "dltwin_x         -0.1470      0.053     -2.793      0.005        -0.250    -0.044\n",
      "dwper             0.4823      0.283      1.705      0.089        -0.073     1.038\n",
      "intdiffstreak    -0.0024      0.009     -0.269      0.788        -0.020     0.015\n",
      "==============================================================================\n",
      "Omnibus:                       10.326   Durbin-Watson:                   2.030\n",
      "Prob(Omnibus):                  0.006   Jarque-Bera (JB):               89.905\n",
      "Skew:                          -0.325   Prob(JB):                     3.00e-20\n",
      "Kurtosis:                       1.222   Cond. No.                         53.1\n",
      "==============================================================================\n",
      "\n",
      "Warnings:\n",
      "[1] Standard Errors assume that the covariance matrix of the errors is correctly specified.\n",
      "Interaction of scoreboard watching with Losing Streaks\n",
      "                            OLS Regression Results                            \n",
      "==============================================================================\n",
      "Dep. Variable:                 twin_x   R-squared:                       0.017\n",
      "Model:                            OLS   Adj. R-squared:                  0.009\n",
      "Method:                 Least Squares   F-statistic:                     2.178\n",
      "Date:                Thu, 08 Dec 2016   Prob (F-statistic):             0.0901\n",
      "Time:                        18:21:20   Log-Likelihood:                -281.03\n",
      "No. Observations:                 393   AIC:                             570.1\n",
      "Df Residuals:                     389   BIC:                             586.0\n",
      "Df Model:                           3                                         \n",
      "Covariance Type:            nonrobust                                         \n",
      "=================================================================================\n",
      "                    coef    std err          t      P>|t|      [95.0% Conf. Int.]\n",
      "---------------------------------------------------------------------------------\n",
      "const             0.5395      0.043     12.636      0.000         0.456     0.623\n",
      "dltwin_x         -0.1212      0.062     -1.948      0.052        -0.244     0.001\n",
      "dwper             0.6293      0.389      1.619      0.106        -0.135     1.394\n",
      "intdiffstreak    -0.0202      0.013     -1.610      0.108        -0.045     0.004\n",
      "==============================================================================\n",
      "Omnibus:                        1.401   Durbin-Watson:                   2.033\n",
      "Prob(Omnibus):                  0.496   Jarque-Bera (JB):               61.291\n",
      "Skew:                          -0.144   Prob(JB):                     4.91e-14\n",
      "Kurtosis:                       1.087   Cond. No.                         47.7\n",
      "==============================================================================\n",
      "\n",
      "Warnings:\n",
      "[1] Standard Errors assume that the covariance matrix of the errors is correctly specified.\n"
     ]
    }
   ],
   "source": [
    "dsi5['diffstreak'] = dsi5['PriorStreak'] - dsi5['opriorstreak']\n",
    "dsi5 ['intdiffstreak'] = dsi5['diffstreak']* dsi5['dltwin_x']\n",
    "dwstreak = dsi5[dsi5['PriorStreak'] > 0]\n",
    "dlstreak = dsi5[dsi5['PriorStreak'] < 0]\n",
    "\n",
    "print 'Interaction of scoreboard watching with Streaks'\n",
    "Y = dsi5['twin_x']\n",
    "X = sm.add_constant(dsi5[['dltwin_x', 'dwper', 'intdiffstreak']])\n",
    "tempOut = sm.OLS(Y, X).fit()\n",
    "print tempOut.summary()\n",
    "\n",
    "print 'Interaction of scoreboard watching with Winning Streaks'\n",
    "Y = dwstreak['twin_x']\n",
    "X = sm.add_constant(dwstreak[['dltwin_x', 'dwper', 'intdiffstreak']])\n",
    "tempOut = sm.OLS(Y, X).fit()\n",
    "print tempOut.summary()\n",
    "\n",
    "print 'Interaction of scoreboard watching with Losing Streaks'\n",
    "Y = dlstreak['twin_x']\n",
    "X = sm.add_constant(dlstreak[['dltwin_x', 'dwper', 'intdiffstreak']])\n",
    "tempOut = sm.OLS(Y, X).fit()\n",
    "print tempOut.summary()"
   ]
  },
  {
   "cell_type": "markdown",
   "metadata": {},
   "source": [
    "# Table 12: Impact of Attendance on Scoreboard Watching"
   ]
  },
  {
   "cell_type": "code",
   "execution_count": 261,
   "metadata": {
    "collapsed": false,
    "scrolled": true
   },
   "outputs": [
    {
     "name": "stdout",
     "output_type": "stream",
     "text": [
      "Interaction of scoreboard watching with Attendance\n",
      "                            OLS Regression Results                            \n",
      "==============================================================================\n",
      "Dep. Variable:                 twin_x   R-squared:                       0.019\n",
      "Model:                            OLS   Adj. R-squared:                  0.016\n",
      "Method:                 Least Squares   F-statistic:                     6.388\n",
      "Date:                Thu, 08 Dec 2016   Prob (F-statistic):           0.000275\n",
      "Time:                        19:44:07   Log-Likelihood:                -695.81\n",
      "No. Observations:                 982   AIC:                             1400.\n",
      "Df Residuals:                     978   BIC:                             1419.\n",
      "Df Model:                           3                                         \n",
      "Covariance Type:            nonrobust                                         \n",
      "=================================================================================\n",
      "                    coef    std err          t      P>|t|      [95.0% Conf. Int.]\n",
      "---------------------------------------------------------------------------------\n",
      "const             0.5967      0.063      9.528      0.000         0.474     0.720\n",
      "dltwin_x         -0.1241      0.032     -3.910      0.000        -0.186    -0.062\n",
      "dwper             0.4841      0.238      2.037      0.042         0.018     0.951\n",
      "IntAttendance     0.0002      0.002      0.119      0.905        -0.003     0.003\n",
      "==============================================================================\n",
      "Omnibus:                        9.808   Durbin-Watson:                   2.083\n",
      "Prob(Omnibus):                  0.007   Jarque-Bera (JB):              151.588\n",
      "Skew:                          -0.246   Prob(JB):                     1.21e-33\n",
      "Kurtosis:                       1.139   Cond. No.                         524.\n",
      "==============================================================================\n",
      "\n",
      "Warnings:\n",
      "[1] Standard Errors assume that the covariance matrix of the errors is correctly specified.\n",
      "Interaction of scoreboard watching with Log of Attendance\n",
      "                            OLS Regression Results                            \n",
      "==============================================================================\n",
      "Dep. Variable:                 twin_x   R-squared:                       0.019\n",
      "Model:                            OLS   Adj. R-squared:                  0.016\n",
      "Method:                 Least Squares   F-statistic:                     6.394\n",
      "Date:                Thu, 08 Dec 2016   Prob (F-statistic):           0.000272\n",
      "Time:                        19:44:07   Log-Likelihood:                -695.80\n",
      "No. Observations:                 982   AIC:                             1400.\n",
      "Df Residuals:                     978   BIC:                             1419.\n",
      "Df Model:                           3                                         \n",
      "Covariance Type:            nonrobust                                         \n",
      "================================================================================\n",
      "                   coef    std err          t      P>|t|      [95.0% Conf. Int.]\n",
      "--------------------------------------------------------------------------------\n",
      "const            0.6892      0.476      1.447      0.148        -0.245     1.624\n",
      "dltwin_x        -0.1248      0.032     -3.937      0.000        -0.187    -0.063\n",
      "dwper            0.4651      0.238      1.955      0.051        -0.002     0.932\n",
      "lnAttendance    -0.0082      0.046     -0.180      0.857        -0.098     0.081\n",
      "==============================================================================\n",
      "Omnibus:                        9.835   Durbin-Watson:                   2.084\n",
      "Prob(Omnibus):                  0.007   Jarque-Bera (JB):              151.591\n",
      "Skew:                          -0.247   Prob(JB):                     1.21e-33\n",
      "Kurtosis:                       1.140   Cond. No.                         321.\n",
      "==============================================================================\n",
      "\n",
      "Warnings:\n",
      "[1] Standard Errors assume that the covariance matrix of the errors is correctly specified.\n"
     ]
    }
   ],
   "source": [
    "dsi5 = dsi5[dsi5['Attendance'] > 1] #include attennded games only (First game of double header has no recorded attendance)\n",
    "\n",
    "dsi5['Attendance']    = dsi5['Attendance'].astype(float)\n",
    "dsi5['IntAttendance'] = ((dsi5['Attendance'])/1000)\n",
    "dsi5['lnAttendance']= (np.log(dsi5['Attendance']))\n",
    "\n",
    "print 'Interaction of scoreboard watching with Attendance'\n",
    "Y = dsi5['twin_x']\n",
    "X = sm.add_constant(dsi5[['dltwin_x', 'dwper', 'IntAttendance']])\n",
    "tempOut = sm.OLS(Y, X).fit()\n",
    "print tempOut.summary()\n",
    "\n",
    "print 'Interaction of scoreboard watching with Log of Attendance'\n",
    "Y = dsi5['twin_x']\n",
    "X = sm.add_constant(dsi5[['dltwin_x', 'dwper', 'lnAttendance']])\n",
    "tempOut = sm.OLS(Y, X).fit()\n",
    "print tempOut.summary()"
   ]
  }
 ],
 "metadata": {
  "anaconda-cloud": {},
  "celltoolbar": "Edit Metadata",
  "kernelspec": {
   "display_name": "Python [conda root]",
   "language": "python",
   "name": "conda-root-py"
  },
  "language_info": {
   "codemirror_mode": {
    "name": "ipython",
    "version": 2
   },
   "file_extension": ".py",
   "mimetype": "text/x-python",
   "name": "python",
   "nbconvert_exporter": "python",
   "pygments_lexer": "ipython2",
   "version": "2.7.12"
  }
 },
 "nbformat": 4,
 "nbformat_minor": 1
}
